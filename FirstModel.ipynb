{
 "cells": [
  {
   "cell_type": "code",
   "execution_count": 1,
   "metadata": {},
   "outputs": [],
   "source": [
    "# WHEN CREATING DATA, NEED TO SHIFT INPUT TOKEN INDEXES BY ONE!!!\n",
    "# 1. Try with real data\n",
    "# 2. Figure out if this is working the way we expect it to work or not\n",
    "# 3. Check out all TODO :\n",
    "# WEIGHT SHARING!!!!!!"
   ]
  },
  {
   "cell_type": "code",
   "execution_count": 2,
   "metadata": {},
   "outputs": [],
   "source": [
    "# Not implemented in Autograd\n",
    "# x .+= something -> does not work with Autograd\n",
    "# x = x .+ something -> works\n",
    "\n",
    "# Not implemented in Knet\n",
    "# getindex for 3d KnetArray\n",
    "# Also there is a bug with std function. Inside it uses _var, which uses iterate, which fails for KnetArrays"
   ]
  },
  {
   "cell_type": "code",
   "execution_count": 3,
   "metadata": {},
   "outputs": [],
   "source": [
    "# The things I've solved\n",
    "# 1. bmm with 4 dims\n",
    "# 2. segment_ids paddings are 0, we can't index with them\n",
    "# 3. ignoring indexes with labels -1 while calculating loss\n",
    "# 4. 2d matrix, 3d tensor multiplication"
   ]
  },
  {
   "cell_type": "code",
   "execution_count": 4,
   "metadata": {
    "scrolled": true
   },
   "outputs": [
    {
     "data": {
      "text/plain": [
       "iterate (generic function with 201 methods)"
      ]
     },
     "execution_count": 4,
     "metadata": {},
     "output_type": "execute_result"
    }
   ],
   "source": [
    "import Base: length, iterate\n",
    "using Random\n",
    "\n",
    "mutable struct PreTrainingData\n",
    "    input_ids\n",
    "    input_mask\n",
    "    segment_ids\n",
    "    mlm_labels\n",
    "    nsp_labels\n",
    "    batchsize\n",
    "    ninstances\n",
    "    shuffled\n",
    "end\n",
    "\n",
    "\n",
    "function PreTrainingData(input_file; batchsize=16, shuffled=true, seq_len=256)\n",
    "    input_ids = []\n",
    "    input_mask = []\n",
    "    segment_ids = []\n",
    "    mlm_labels = []\n",
    "    nsp_labels = []\n",
    "    f = open(input_file)\n",
    "    tmp = split.(readlines(f), \"\\t\")\n",
    "    for i in 1:100#length(tmp)\n",
    "        instance = eval.(Meta.parse.(tmp[i]))\n",
    "#         push!(input_ids, instance[1] .+ 1)\n",
    "#         push!(input_mask, instance[2])\n",
    "#         push!(segment_ids, instance[3] .+ 1)\n",
    "#         push!(mlm_labels, map(x -> x != -1 ? x + 1 : x, instance[4]))\n",
    "#         push!(nsp_labels, instance[5] + 1)\n",
    "        push!(input_ids, (instance[1] .+ 1)[1:seq_len])\n",
    "        push!(input_mask, instance[2][1:seq_len])\n",
    "        push!(segment_ids, (instance[3] .+ 1)[1:seq_len])\n",
    "        push!(mlm_labels, map(x -> x != -1 ? x + 1 : x, instance[4])[1:seq_len])\n",
    "        push!(nsp_labels, (instance[5] + 1))\n",
    "    end\n",
    "    ninstances = length(input_ids)\n",
    "    return PreTrainingData(input_ids, input_mask, segment_ids, mlm_labels, nsp_labels, batchsize, ninstances, shuffled)\n",
    "end\n",
    "\n",
    "\n",
    "function length(d::PreTrainingData)\n",
    "    d, r = divrem(d.ninstances, d.batchsize)\n",
    "    return r == 0 ? d : d+1\n",
    "end\n",
    "\n",
    "function iterate(d::PreTrainingData, state=ifelse(d.shuffled, randperm(d.ninstances), 1:d.ninstances))\n",
    "\n",
    "    state === nothing && return nothing\n",
    "\n",
    "    if length(state) > d.batchsize\n",
    "        new_state = state[d.batchsize+1:end]\n",
    "        input_ids = hcat(d.input_ids[state[1:d.batchsize]]...)\n",
    "        input_mask = hcat(d.input_mask[state[1:d.batchsize]]...)\n",
    "        segment_ids = hcat(d.segment_ids[state[1:d.batchsize]]...)\n",
    "        mlm_labels = hcat(d.mlm_labels[state[1:d.batchsize]]...)\n",
    "        nsp_labels = hcat(d.nsp_labels[state[1:d.batchsize]]...)\n",
    "    else\n",
    "        new_state = nothing\n",
    "        input_ids = hcat(d.input_ids[state]...)\n",
    "        input_mask = hcat(d.input_mask[state]...)\n",
    "        segment_ids = hcat(d.segment_ids[state]...)\n",
    "        mlm_labels = hcat(d.mlm_labels[state]...)\n",
    "        nsp_labels = hcat(d.nsp_labels[state]...)\n",
    "    end\n",
    "    \n",
    "    return ((input_ids, input_mask, segment_ids, mlm_labels, nsp_labels), new_state)\n",
    "end"
   ]
  },
  {
   "cell_type": "code",
   "execution_count": 5,
   "metadata": {
    "scrolled": true
   },
   "outputs": [
    {
     "data": {
      "text/plain": [
       "load_from_torch (generic function with 1 method)"
      ]
     },
     "execution_count": 5,
     "metadata": {},
     "output_type": "execute_result"
    }
   ],
   "source": [
    "include(\"model.jl\")"
   ]
  },
  {
   "cell_type": "code",
   "execution_count": 6,
   "metadata": {},
   "outputs": [
    {
     "data": {
      "text/plain": [
       "gelu (generic function with 2 methods)"
      ]
     },
     "execution_count": 6,
     "metadata": {},
     "output_type": "execute_result"
    }
   ],
   "source": [
    "using SpecialFunctions\n",
    "gelu(x) = Float32(x .* 0.5 .* (1.0 .+ erf.(x ./ sqrt(2.0))))\n",
    "gelu(x::Knet.Bcasted) = x .* 0.5 .* (1.0 .+ erf.(x ./ sqrt(2.0)))"
   ]
  },
  {
   "cell_type": "code",
   "execution_count": 7,
   "metadata": {},
   "outputs": [
    {
     "data": {
      "text/plain": [
       "Config(768, 30522, 3072, 512, 64, 2, 12, 12, 8, KnetArray{Float32,N} where N, 0.1, 0.1, Knet.relu)"
      ]
     },
     "execution_count": 7,
     "metadata": {},
     "output_type": "execute_result"
    }
   ],
   "source": [
    "mutable struct Config\n",
    "    embed_size::Int\n",
    "    vocab_size::Int\n",
    "    ff_hidden_size::Int\n",
    "    max_seq_len::Int\n",
    "    seq_len::Int\n",
    "    num_segment::Int\n",
    "    num_heads::Int\n",
    "    num_encoder::Int\n",
    "    batchsize::Int\n",
    "    atype\n",
    "    pdrop\n",
    "    attention_pdrop\n",
    "    func\n",
    "end\n",
    "\n",
    "config = Config(768, 30522, 3072, 512, 64, 2, 12, 12, 8, KnetArray{Float32}, 0.1, 0.1, relu)"
   ]
  },
  {
   "cell_type": "code",
   "execution_count": 8,
   "metadata": {
    "scrolled": true
   },
   "outputs": [
    {
     "data": {
      "text/plain": [
       "PreTrainingData(Any[[102, 1001, 7571, 1013, 104, 1013, 10232, 1025, 10769, 2100  …  4809, 2000, 1997, 104, 1013, 14767, 104, 2668, 2001, 3306], [102, 1001, 2097, 2117, 4842, 104, 2043, 24666, 17687, 2006  …  2041, 2025, 6168, 1012, 9023, 104, 2032, 2054, 3755, 2001], [102, 1997, 104, 25043, 8820, 2863, 1013, 2152, 2232, 3037  …  2578, 12839, 2057, 1997, 104, 6987, 1012, 12483, 1011, 2153], [102, 1525, 12839, 2212, 1013, 1524, 2044, 2058, 2032, 4481  …  1525, 1997, 3680, 5654, 1025, 3952, 2578, 12839, 1011, 1997], [102, 4120, 1997, 24530, 2051, 1011, 3392, 2044, 2112, 5255  …  1997, 2467, 1025, 1765, 103, 2909, 2206, 2522, 1030, 2058], [102, 1001, 2688, 1012, 5642, 1012, 2261, 104, 1025, 4003  …  1013, 103, 9023, 1999, 104, 2054, 3755, 104, 2682, 104], [102, 1056, 1013, 4002, 2680, 104, 2000, 1038, 4358, 2009  …  2015, 2768, 1999, 3181, 9699, 1011, 2625, 3800, 4388, 7913], [102, 2917, 2007, 1997, 2796, 1011, 2022, 1046, 2229, 2010  …  5276, 29902, 104, 9081, 2164, 2019, 2001, 3614, 8148, 103], [102, 104, 1011, 2000, 27943, 15371, 1997, 10644, 2041, 2019  …  2111, 1013, 1001, 1001, 1007, 2015, 1008, 4560, 2001, 1038], [102, 2148, 3086, 7422, 3640, 2292, 2516, 2026, 4840, 2652  …  2067, 5713, 1999, 2168, 4421, 2025, 2087, 2186, 2014, 4976]  …  [102, 2007, 104, 6079, 2006, 104, 11769, 1013, 2007, 9433  …  5275, 2009, 23652, 1997, 22719, 1998, 104, 24530, 2051, 3037], [102, 1998, 1997, 2089, 1522, 1056, 3589, 6352, 5167, 1013  …  3729, 2329, 5318, 1012, 5046, 2374, 3270, 1011, 2062, 2058], [102, 11521, 5158, 2014, 2048, 3122, 1999, 3942, 2065, 2023  …  2452, 1012, 2899, 1530, 104, 18541, 2693, 1013, 2000, 2711], [102, 20982, 3225, 104, 1011, 6283, 3868, 1998, 2711, 1522  …  11807, 14818, 3513, 6089, 2108, 2005, 21369, 1999, 3807, 2000], [102, 2598, 1998, 3774, 2050, 3924, 104, 11769, 6690, 2097  …  1999, 9354, 4049, 13332, 104, 1025, 3924, 11769, 2025, 2007], [102, 2169, 2559, 1013, 2097, 2123, 12879, 2032, 2026, 17545  …  2944, 2225, 1013, 1530, 2335, 6868, 2032, 104, 2031, 104], [102, 1001, 2007, 2038, 7973, 104, 3066, 2652, 9466, 10273  …  10273, 1999, 15292, 4888, 5604, 2166, 1997, 7291, 2826, 2347], [102, 2101, 4303, 2001, 2132, 2015, 3790, 2007, 2024, 9872  …  7374, 2227, 2842, 2004, 5771, 104, 2014, 2024, 3067, 2004], [102, 2001, 5999, 2001, 9959, 1038, 3485, 104, 2932, 104  …  1013, 2066, 2018, 1522, 2129, 3202, 104, 3192, 2063, 2014], [102, 1001, 1032, 1057, 2362, 1012, 2679, 24472, 2141, 1028  …  2476, 1004, 3771, 1004, 5586, 2103, 1010, 2216, 1010, 2001]], Any[[1, 1, 1, 1, 1, 1, 1, 1, 1, 1  …  1, 1, 1, 1, 1, 1, 1, 1, 1, 1], [1, 1, 1, 1, 1, 1, 1, 1, 1, 1  …  1, 1, 1, 1, 1, 1, 1, 1, 1, 1], [1, 1, 1, 1, 1, 1, 1, 1, 1, 1  …  1, 1, 1, 1, 1, 1, 1, 1, 1, 1], [1, 1, 1, 1, 1, 1, 1, 1, 1, 1  …  1, 1, 1, 1, 1, 1, 1, 1, 1, 1], [1, 1, 1, 1, 1, 1, 1, 1, 1, 1  …  1, 1, 1, 1, 1, 1, 1, 1, 1, 1], [1, 1, 1, 1, 1, 1, 1, 1, 1, 1  …  1, 1, 1, 1, 1, 1, 1, 1, 1, 1], [1, 1, 1, 1, 1, 1, 1, 1, 1, 1  …  1, 1, 1, 1, 1, 1, 1, 1, 1, 1], [1, 1, 1, 1, 1, 1, 1, 1, 1, 1  …  1, 1, 1, 1, 1, 1, 1, 1, 1, 1], [1, 1, 1, 1, 1, 1, 1, 1, 1, 1  …  1, 1, 1, 1, 1, 1, 1, 1, 1, 1], [1, 1, 1, 1, 1, 1, 1, 1, 1, 1  …  1, 1, 1, 1, 1, 1, 1, 1, 1, 1]  …  [1, 1, 1, 1, 1, 1, 1, 1, 1, 1  …  1, 1, 1, 1, 1, 1, 1, 1, 1, 1], [1, 1, 1, 1, 1, 1, 1, 1, 1, 1  …  1, 1, 1, 1, 1, 1, 1, 1, 1, 1], [1, 1, 1, 1, 1, 1, 1, 1, 1, 1  …  1, 1, 1, 1, 1, 1, 1, 1, 1, 1], [1, 1, 1, 1, 1, 1, 1, 1, 1, 1  …  1, 1, 1, 1, 1, 1, 1, 1, 1, 1], [1, 1, 1, 1, 1, 1, 1, 1, 1, 1  …  1, 1, 1, 1, 1, 1, 1, 1, 1, 1], [1, 1, 1, 1, 1, 1, 1, 1, 1, 1  …  1, 1, 1, 1, 1, 1, 1, 1, 1, 1], [1, 1, 1, 1, 1, 1, 1, 1, 1, 1  …  1, 1, 1, 1, 1, 1, 1, 1, 1, 1], [1, 1, 1, 1, 1, 1, 1, 1, 1, 1  …  1, 1, 1, 1, 1, 1, 1, 1, 1, 1], [1, 1, 1, 1, 1, 1, 1, 1, 1, 1  …  1, 1, 1, 1, 1, 1, 1, 1, 1, 1], [1, 1, 1, 1, 1, 1, 1, 1, 1, 1  …  1, 1, 1, 1, 1, 1, 1, 1, 1, 1]], Any[[1, 1, 1, 1, 1, 1, 1, 1, 1, 1  …  2, 2, 2, 2, 2, 2, 2, 2, 2, 2], [1, 1, 1, 1, 1, 1, 1, 1, 1, 1  …  2, 2, 2, 2, 2, 2, 2, 2, 2, 2], [1, 1, 1, 1, 1, 1, 1, 1, 1, 1  …  1, 1, 1, 1, 1, 1, 1, 1, 1, 1], [1, 1, 1, 1, 1, 1, 1, 1, 1, 1  …  1, 1, 1, 1, 1, 1, 1, 1, 1, 1], [1, 1, 1, 1, 1, 1, 1, 1, 1, 1  …  1, 1, 1, 1, 1, 2, 2, 2, 2, 2], [1, 1, 1, 1, 1, 1, 1, 1, 1, 1  …  1, 1, 2, 2, 2, 2, 2, 2, 2, 2], [1, 1, 1, 1, 1, 1, 1, 1, 1, 1  …  1, 1, 1, 1, 1, 1, 1, 1, 1, 1], [1, 1, 1, 1, 1, 1, 1, 1, 1, 1  …  1, 1, 1, 1, 1, 1, 1, 1, 1, 1], [1, 1, 1, 1, 1, 1, 1, 1, 1, 1  …  1, 1, 1, 1, 1, 1, 1, 1, 1, 1], [1, 1, 1, 1, 1, 1, 1, 1, 1, 1  …  1, 1, 1, 1, 1, 1, 1, 1, 1, 1]  …  [1, 1, 1, 1, 1, 1, 1, 1, 1, 1  …  2, 2, 2, 2, 2, 2, 2, 2, 2, 2], [1, 1, 1, 1, 1, 1, 1, 1, 1, 1  …  1, 1, 1, 1, 1, 1, 1, 1, 1, 1], [1, 1, 1, 1, 1, 1, 1, 1, 1, 1  …  1, 1, 1, 1, 1, 1, 1, 1, 1, 1], [1, 1, 1, 1, 1, 1, 1, 1, 1, 1  …  1, 1, 1, 1, 1, 1, 1, 1, 1, 1], [1, 1, 1, 1, 1, 1, 1, 1, 1, 1  …  1, 1, 1, 1, 1, 1, 1, 1, 1, 1], [1, 1, 1, 1, 1, 1, 1, 1, 1, 1  …  1, 1, 1, 1, 1, 1, 1, 1, 1, 1], [1, 1, 1, 1, 1, 1, 1, 1, 1, 1  …  1, 1, 1, 1, 1, 1, 1, 1, 1, 1], [1, 1, 1, 1, 1, 1, 1, 1, 1, 1  …  1, 1, 1, 1, 1, 1, 1, 1, 1, 1], [1, 1, 1, 1, 1, 1, 1, 1, 1, 1  …  2, 2, 2, 2, 2, 2, 2, 2, 2, 2], [1, 1, 1, 1, 1, 1, 1, 1, 1, 1  …  1, 1, 1, 1, 1, 1, 1, 1, 1, 1]], Any[[-1, -1, -1, -1, 3390, -1, -1, -1, -1, -1  …  -1, -1, -1, 16166, -1, -1, 2025, -1, -1, -1], [-1, -1, -1, -1, -1, 2032, -1, -1, -1, -1  …  -1, -1, -1, -1, -1, 1999, -1, -1, -1, -1], [-1, -1, 4425, -1, -1, -1, -1, -1, -1, -1  …  -1, -1, -1, -1, 6388, -1, -1, -1, -1, -1], [-1, -1, -1, -1, -1, -1, -1, -1, -1, -1  …  -1, -1, -1, -1, -1, -1, -1, -1, -1, -1], [-1, -1, -1, -1, -1, -1, -1, -1, -1, -1  …  -1, -1, -1, 1001, -1, -1, -1, -1, -1, -1], [-1, -1, -1, -1, -1, -1, -1, 5841, -1, -1  …  -1, -1, -1, -1, 2032, -1, -1, 2001, -1, 2105], [-1, -1, -1, -1, -1, 1013, -1, -1, -1, -1  …  -1, -1, -1, -1, -1, -1, -1, -1, -1, -1], [-1, -1, -1, -1, -1, -1, -1, -1, -1, -1  …  -1, 2009, 1997, 2143, -1, -1, -1, -1, -1, -1], [-1, 2724, -1, -1, -1, -1, -1, -1, -1, -1  …  -1, -1, -1, -1, -1, -1, -1, -1, -1, -1], [-1, -1, -1, -1, -1, -1, -1, -1, -1, -1  …  -1, -1, -1, -1, -1, -1, -1, -1, -1, -1]  …  [-1, -1, 2191, -1, -1, 8162, -1, -1, -1, -1  …  -1, -1, -1, -1, -1, -1, 1997, -1, -1, -1], [-1, -1, -1, -1, -1, -1, -1, -1, -1, -1  …  -1, -1, -1, -1, -1, -1, -1, -1, -1, -1], [-1, -1, -1, -1, -1, -1, -1, -1, -1, -1  …  -1, -1, -1, -1, 2012, -1, -1, -1, -1, -1], [-1, -1, -1, 26207, -1, -1, -1, -1, -1, -1  …  -1, -1, -1, -1, -1, -1, 3515, -1, -1, -1], [-1, -1, -1, -1, -1, -1, 6352, -1, -1, -1  …  -1, -1, -1, -1, 3469, -1, -1, -1, -1, -1], [-1, -1, -1, -1, -1, -1, -1, -1, -1, -1  …  -1, -1, -1, -1, -1, -1, -1, 3623, -1, 14959], [-1, -1, -1, 2038, -1, 2558, -1, -1, -1, -1  …  -1, -1, -1, -1, -1, -1, -1, -1, -1, -1], [-1, -1, -1, -1, -1, -1, -1, -1, -1, -1  …  -1, -1, -1, -1, -1, 3437, -1, -1, -1, -1], [-1, -1, -1, -1, -1, -1, -1, 1998, -1, 7207  …  -1, -1, -1, -1, -1, -1, 2001, -1, -1, -1], [-1, -1, -1, -1, -1, -1, -1, -1, -1, -1  …  -1, -1, -1, -1, -1, -1, -1, -1, -1, -1]], Any[1, 2, 2, 1, 2, 2, 1, 1, 2, 2  …  2, 2, 2, 2, 2, 1, 1, 1, 1, 2], 8, 100, true)"
      ]
     },
     "execution_count": 8,
     "metadata": {},
     "output_type": "execute_result"
    }
   ],
   "source": [
    "input_file = \"/scratch/users/omutlu/hyperpartisan/data_20181122_big/pre_test.tsv\" # Each line has 5 columns: input ids, input mask, segment ids, masked lm labels, next sentence label\n",
    "dtrn = PreTrainingData(input_file, batchsize=config.batchsize, seq_len=config.seq_len)"
   ]
  },
  {
   "cell_type": "code",
   "execution_count": 9,
   "metadata": {
    "scrolled": true
   },
   "outputs": [
    {
     "data": {
      "text/plain": [
       "BertPreTraining(Bert(EmbedLayer(Embedding(P(KnetArray{Float32,2}(768,30522))), Embedding(P(KnetArray{Float32,2}(768,512))), Embedding(P(KnetArray{Float32,2}(768,2))), LayerNormalization(P(KnetArray{Float32,1}(768)), P(KnetArray{Float32,1}(768)), 1.0e-12), 64, 0.1), Encoder[Encoder(SelfAttention(Linear3D(P(KnetArray{Float32,2}(768,768)), P(KnetArray{Float32,1}(768))), Linear3D(P(KnetArray{Float32,2}(768,768)), P(KnetArray{Float32,1}(768))), Linear3D(P(KnetArray{Float32,2}(768,768)), P(KnetArray{Float32,1}(768))), Linear3D(P(KnetArray{Float32,2}(768,768)), P(KnetArray{Float32,1}(768))), 12, 64, 768, 64, 8, 0.1, 0.1), LayerNormalization(P(KnetArray{Float32,1}(768)), P(KnetArray{Float32,1}(768)), 1.0e-12), FeedForward(Dense(Linear3D(P(KnetArray{Float32,2}(3072,768)), P(KnetArray{Float32,1}(3072))), 0.0, relu), Linear3D(P(KnetArray{Float32,2}(768,3072)), P(KnetArray{Float32,1}(768))), 0.1), LayerNormalization(P(KnetArray{Float32,1}(768)), P(KnetArray{Float32,1}(768)), 1.0e-12)), Encoder(SelfAttention(Linear3D(P(KnetArray{Float32,2}(768,768)), P(KnetArray{Float32,1}(768))), Linear3D(P(KnetArray{Float32,2}(768,768)), P(KnetArray{Float32,1}(768))), Linear3D(P(KnetArray{Float32,2}(768,768)), P(KnetArray{Float32,1}(768))), Linear3D(P(KnetArray{Float32,2}(768,768)), P(KnetArray{Float32,1}(768))), 12, 64, 768, 64, 8, 0.1, 0.1), LayerNormalization(P(KnetArray{Float32,1}(768)), P(KnetArray{Float32,1}(768)), 1.0e-12), FeedForward(Dense(Linear3D(P(KnetArray{Float32,2}(3072,768)), P(KnetArray{Float32,1}(3072))), 0.0, relu), Linear3D(P(KnetArray{Float32,2}(768,3072)), P(KnetArray{Float32,1}(768))), 0.1), LayerNormalization(P(KnetArray{Float32,1}(768)), P(KnetArray{Float32,1}(768)), 1.0e-12)), Encoder(SelfAttention(Linear3D(P(KnetArray{Float32,2}(768,768)), P(KnetArray{Float32,1}(768))), Linear3D(P(KnetArray{Float32,2}(768,768)), P(KnetArray{Float32,1}(768))), Linear3D(P(KnetArray{Float32,2}(768,768)), P(KnetArray{Float32,1}(768))), Linear3D(P(KnetArray{Float32,2}(768,768)), P(KnetArray{Float32,1}(768))), 12, 64, 768, 64, 8, 0.1, 0.1), LayerNormalization(P(KnetArray{Float32,1}(768)), P(KnetArray{Float32,1}(768)), 1.0e-12), FeedForward(Dense(Linear3D(P(KnetArray{Float32,2}(3072,768)), P(KnetArray{Float32,1}(3072))), 0.0, relu), Linear3D(P(KnetArray{Float32,2}(768,3072)), P(KnetArray{Float32,1}(768))), 0.1), LayerNormalization(P(KnetArray{Float32,1}(768)), P(KnetArray{Float32,1}(768)), 1.0e-12)), Encoder(SelfAttention(Linear3D(P(KnetArray{Float32,2}(768,768)), P(KnetArray{Float32,1}(768))), Linear3D(P(KnetArray{Float32,2}(768,768)), P(KnetArray{Float32,1}(768))), Linear3D(P(KnetArray{Float32,2}(768,768)), P(KnetArray{Float32,1}(768))), Linear3D(P(KnetArray{Float32,2}(768,768)), P(KnetArray{Float32,1}(768))), 12, 64, 768, 64, 8, 0.1, 0.1), LayerNormalization(P(KnetArray{Float32,1}(768)), P(KnetArray{Float32,1}(768)), 1.0e-12), FeedForward(Dense(Linear3D(P(KnetArray{Float32,2}(3072,768)), P(KnetArray{Float32,1}(3072))), 0.0, relu), Linear3D(P(KnetArray{Float32,2}(768,3072)), P(KnetArray{Float32,1}(768))), 0.1), LayerNormalization(P(KnetArray{Float32,1}(768)), P(KnetArray{Float32,1}(768)), 1.0e-12)), Encoder(SelfAttention(Linear3D(P(KnetArray{Float32,2}(768,768)), P(KnetArray{Float32,1}(768))), Linear3D(P(KnetArray{Float32,2}(768,768)), P(KnetArray{Float32,1}(768))), Linear3D(P(KnetArray{Float32,2}(768,768)), P(KnetArray{Float32,1}(768))), Linear3D(P(KnetArray{Float32,2}(768,768)), P(KnetArray{Float32,1}(768))), 12, 64, 768, 64, 8, 0.1, 0.1), LayerNormalization(P(KnetArray{Float32,1}(768)), P(KnetArray{Float32,1}(768)), 1.0e-12), FeedForward(Dense(Linear3D(P(KnetArray{Float32,2}(3072,768)), P(KnetArray{Float32,1}(3072))), 0.0, relu), Linear3D(P(KnetArray{Float32,2}(768,3072)), P(KnetArray{Float32,1}(768))), 0.1), LayerNormalization(P(KnetArray{Float32,1}(768)), P(KnetArray{Float32,1}(768)), 1.0e-12)), Encoder(SelfAttention(Linear3D(P(KnetArray{Float32,2}(768,768)), P(KnetArray{Float32,1}(768))), Linear3D(P(KnetArray{Float32,2}(768,768)), P(KnetArray{Float32,1}(768))), Linear3D(P(KnetArray{Float32,2}(768,768)), P(KnetArray{Float32,1}(768))), Linear3D(P(KnetArray{Float32,2}(768,768)), P(KnetArray{Float32,1}(768))), 12, 64, 768, 64, 8, 0.1, 0.1), LayerNormalization(P(KnetArray{Float32,1}(768)), P(KnetArray{Float32,1}(768)), 1.0e-12), FeedForward(Dense(Linear3D(P(KnetArray{Float32,2}(3072,768)), P(KnetArray{Float32,1}(3072))), 0.0, relu), Linear3D(P(KnetArray{Float32,2}(768,3072)), P(KnetArray{Float32,1}(768))), 0.1), LayerNormalization(P(KnetArray{Float32,1}(768)), P(KnetArray{Float32,1}(768)), 1.0e-12)), Encoder(SelfAttention(Linear3D(P(KnetArray{Float32,2}(768,768)), P(KnetArray{Float32,1}(768))), Linear3D(P(KnetArray{Float32,2}(768,768)), P(KnetArray{Float32,1}(768))), Linear3D(P(KnetArray{Float32,2}(768,768)), P(KnetArray{Float32,1}(768))), Linear3D(P(KnetArray{Float32,2}(768,768)), P(KnetArray{Float32,1}(768))), 12, 64, 768, 64, 8, 0.1, 0.1), LayerNormalization(P(KnetArray{Float32,1}(768)), P(KnetArray{Float32,1}(768)), 1.0e-12), FeedForward(Dense(Linear3D(P(KnetArray{Float32,2}(3072,768)), P(KnetArray{Float32,1}(3072))), 0.0, relu), Linear3D(P(KnetArray{Float32,2}(768,3072)), P(KnetArray{Float32,1}(768))), 0.1), LayerNormalization(P(KnetArray{Float32,1}(768)), P(KnetArray{Float32,1}(768)), 1.0e-12)), Encoder(SelfAttention(Linear3D(P(KnetArray{Float32,2}(768,768)), P(KnetArray{Float32,1}(768))), Linear3D(P(KnetArray{Float32,2}(768,768)), P(KnetArray{Float32,1}(768))), Linear3D(P(KnetArray{Float32,2}(768,768)), P(KnetArray{Float32,1}(768))), Linear3D(P(KnetArray{Float32,2}(768,768)), P(KnetArray{Float32,1}(768))), 12, 64, 768, 64, 8, 0.1, 0.1), LayerNormalization(P(KnetArray{Float32,1}(768)), P(KnetArray{Float32,1}(768)), 1.0e-12), FeedForward(Dense(Linear3D(P(KnetArray{Float32,2}(3072,768)), P(KnetArray{Float32,1}(3072))), 0.0, relu), Linear3D(P(KnetArray{Float32,2}(768,3072)), P(KnetArray{Float32,1}(768))), 0.1), LayerNormalization(P(KnetArray{Float32,1}(768)), P(KnetArray{Float32,1}(768)), 1.0e-12)), Encoder(SelfAttention(Linear3D(P(KnetArray{Float32,2}(768,768)), P(KnetArray{Float32,1}(768))), Linear3D(P(KnetArray{Float32,2}(768,768)), P(KnetArray{Float32,1}(768))), Linear3D(P(KnetArray{Float32,2}(768,768)), P(KnetArray{Float32,1}(768))), Linear3D(P(KnetArray{Float32,2}(768,768)), P(KnetArray{Float32,1}(768))), 12, 64, 768, 64, 8, 0.1, 0.1), LayerNormalization(P(KnetArray{Float32,1}(768)), P(KnetArray{Float32,1}(768)), 1.0e-12), FeedForward(Dense(Linear3D(P(KnetArray{Float32,2}(3072,768)), P(KnetArray{Float32,1}(3072))), 0.0, relu), Linear3D(P(KnetArray{Float32,2}(768,3072)), P(KnetArray{Float32,1}(768))), 0.1), LayerNormalization(P(KnetArray{Float32,1}(768)), P(KnetArray{Float32,1}(768)), 1.0e-12)), Encoder(SelfAttention(Linear3D(P(KnetArray{Float32,2}(768,768)), P(KnetArray{Float32,1}(768))), Linear3D(P(KnetArray{Float32,2}(768,768)), P(KnetArray{Float32,1}(768))), Linear3D(P(KnetArray{Float32,2}(768,768)), P(KnetArray{Float32,1}(768))), Linear3D(P(KnetArray{Float32,2}(768,768)), P(KnetArray{Float32,1}(768))), 12, 64, 768, 64, 8, 0.1, 0.1), LayerNormalization(P(KnetArray{Float32,1}(768)), P(KnetArray{Float32,1}(768)), 1.0e-12), FeedForward(Dense(Linear3D(P(KnetArray{Float32,2}(3072,768)), P(KnetArray{Float32,1}(3072))), 0.0, relu), Linear3D(P(KnetArray{Float32,2}(768,3072)), P(KnetArray{Float32,1}(768))), 0.1), LayerNormalization(P(KnetArray{Float32,1}(768)), P(KnetArray{Float32,1}(768)), 1.0e-12)), Encoder(SelfAttention(Linear3D(P(KnetArray{Float32,2}(768,768)), P(KnetArray{Float32,1}(768))), Linear3D(P(KnetArray{Float32,2}(768,768)), P(KnetArray{Float32,1}(768))), Linear3D(P(KnetArray{Float32,2}(768,768)), P(KnetArray{Float32,1}(768))), Linear3D(P(KnetArray{Float32,2}(768,768)), P(KnetArray{Float32,1}(768))), 12, 64, 768, 64, 8, 0.1, 0.1), LayerNormalization(P(KnetArray{Float32,1}(768)), P(KnetArray{Float32,1}(768)), 1.0e-12), FeedForward(Dense(Linear3D(P(KnetArray{Float32,2}(3072,768)), P(KnetArray{Float32,1}(3072))), 0.0, relu), Linear3D(P(KnetArray{Float32,2}(768,3072)), P(KnetArray{Float32,1}(768))), 0.1), LayerNormalization(P(KnetArray{Float32,1}(768)), P(KnetArray{Float32,1}(768)), 1.0e-12)), Encoder(SelfAttention(Linear3D(P(KnetArray{Float32,2}(768,768)), P(KnetArray{Float32,1}(768))), Linear3D(P(KnetArray{Float32,2}(768,768)), P(KnetArray{Float32,1}(768))), Linear3D(P(KnetArray{Float32,2}(768,768)), P(KnetArray{Float32,1}(768))), Linear3D(P(KnetArray{Float32,2}(768,768)), P(KnetArray{Float32,1}(768))), 12, 64, 768, 64, 8, 0.1, 0.1), LayerNormalization(P(KnetArray{Float32,1}(768)), P(KnetArray{Float32,1}(768)), 1.0e-12), FeedForward(Dense(Linear3D(P(KnetArray{Float32,2}(3072,768)), P(KnetArray{Float32,1}(3072))), 0.0, relu), Linear3D(P(KnetArray{Float32,2}(768,3072)), P(KnetArray{Float32,1}(768))), 0.1), LayerNormalization(P(KnetArray{Float32,1}(768)), P(KnetArray{Float32,1}(768)), 1.0e-12))], KnetArray{Float32,N} where N), Pooler(Linear(P(KnetArray{Float32,2}(768,768)), P(KnetArray{Float32,1}(768)))), NSPHead(Linear(P(KnetArray{Float32,2}(2,768)), P(KnetArray{Float32,1}(2)))), MLMHead(Dense(Linear3D(P(KnetArray{Float32,2}(768,768)), P(KnetArray{Float32,1}(768))), 0.0, Knet.relu), LayerNormalization(P(KnetArray{Float32,1}(768)), P(KnetArray{Float32,1}(768)), 1.0e-12), Linear3D(P(KnetArray{Float32,2}(30522,768)), P(KnetArray{Float32,1}(30522)))))"
      ]
     },
     "execution_count": 9,
     "metadata": {},
     "output_type": "execute_result"
    }
   ],
   "source": [
    "model = BertPreTraining(config)"
   ]
  },
  {
   "cell_type": "code",
   "execution_count": 10,
   "metadata": {
    "scrolled": true
   },
   "outputs": [
    {
     "data": {
      "text/plain": [
       "T(10.935729)"
      ]
     },
     "execution_count": 10,
     "metadata": {},
     "output_type": "execute_result"
    }
   ],
   "source": [
    "(x, attention_mask, segment_ids, mlm_labels, nsp_labels) = first(dtrn)\n",
    "lss = @diff model(x, segment_ids, mlm_labels, nsp_labels, attention_mask=attention_mask)"
   ]
  },
  {
   "cell_type": "code",
   "execution_count": 132,
   "metadata": {
    "scrolled": true
   },
   "outputs": [
    {
     "data": {
      "text/plain": [
       "Dict{Any,Any} with 207 entries:\n",
       "  \"bert.encoder.layer.2.at… => PyObject tensor([[ 0.0641,  0.0921,  0.0645,  ..…\n",
       "  \"bert.encoder.layer.6.ou… => PyObject tensor([0.8757, 0.8678, 0.8159, 0.8294,…\n",
       "  \"bert.encoder.layer.3.ou… => PyObject tensor([0.8370, 0.8401, 0.8245, 0.8292,…\n",
       "  \"bert.encoder.layer.5.at… => PyObject tensor([[ 0.0022,  0.0240, -0.0346,  ..…\n",
       "  \"bert.encoder.layer.0.at… => PyObject tensor([[ 0.0209, -0.0050, -0.0087,  ..…\n",
       "  \"bert.encoder.layer.0.at… => PyObject tensor([[-0.0125,  0.0259, -0.0247,  ..…\n",
       "  \"bert.encoder.layer.4.in… => PyObject tensor([-0.0937, -0.1178, -0.1182,  ...…\n",
       "  \"bert.encoder.layer.4.at… => PyObject tensor([-5.8893e-03, -2.3500e-03,  2.81…\n",
       "  \"bert.encoder.layer.3.at… => PyObject tensor([0.9213, 0.8878, 0.8387, 0.8576,…\n",
       "  \"bert.encoder.layer.9.at… => PyObject tensor([0.8576, 0.8295, 0.7983, 0.7731,…\n",
       "  \"bert.encoder.layer.11.a… => PyObject tensor([[-0.0619, -0.0012, -0.0201,  ..…\n",
       "  \"bert.encoder.layer.10.a… => PyObject tensor([ 0.0225,  0.0150,  0.0542,  0.0…\n",
       "  \"bert.encoder.layer.10.o… => PyObject tensor([[ 0.0229, -0.0331,  0.0035,  ..…\n",
       "  \"bert.pooler.dense.weigh… => PyObject tensor([[ 0.0076, -0.0378, -0.0148,  ..…\n",
       "  \"bert.encoder.layer.4.ou… => PyObject tensor([0.8796, 0.8641, 0.8371, 0.8502,…\n",
       "  \"bert.encoder.layer.8.at… => PyObject tensor([ 4.8455e-05,  3.4553e-03, -1.75…\n",
       "  \"cls.predictions.bias\"    => PyObject tensor([-0.9045, -0.9146, -0.9305,  ...…\n",
       "  \"bert.encoder.layer.6.at… => PyObject tensor([[-0.0112,  0.0050, -0.0501,  ..…\n",
       "  \"bert.embeddings.word_em… => PyObject tensor([[ 0.0062, -0.0568, -0.0329,  ..…\n",
       "  \"bert.encoder.layer.10.a… => PyObject tensor([-0.0400, -0.0275, -0.0459, -0.0…\n",
       "  \"bert.encoder.layer.3.at… => PyObject tensor([[ 0.0669, -0.0302, -0.0036,  ..…\n",
       "  \"bert.encoder.layer.10.a… => PyObject tensor([[-0.0085,  0.0331,  0.0011,  ..…\n",
       "  \"bert.encoder.layer.8.at… => PyObject tensor([ 0.0242,  0.0072, -0.0357,  0.0…\n",
       "  \"bert.encoder.layer.2.ou… => PyObject tensor([-0.0655,  0.0687, -0.0304,  0.0…\n",
       "  \"bert.encoder.layer.6.at… => PyObject tensor([[-0.0321,  0.0631, -0.0146,  ..…\n",
       "  ⋮                         => ⋮"
      ]
     },
     "execution_count": 132,
     "metadata": {},
     "output_type": "execute_result"
    }
   ],
   "source": [
    "using PyCall\n",
    "@pyimport torch\n",
    "torch_model = torch.load(\"/scratch/users/omutlu/hyperpartisan/data_20181122_big/pytorch_model.bin\")"
   ]
  },
  {
   "cell_type": "code",
   "execution_count": 207,
   "metadata": {
    "scrolled": true
   },
   "outputs": [
    {
     "data": {
      "text/plain": [
       "BertPreTraining(Bert(EmbedLayer(Embedding(KFloat32[0.00618323 -0.0169476 … -0.0499978 -0.0177459; -0.0568268 -0.0541772 … -0.0468287 -0.0793887; … ; -0.0306487 -0.0289911 … -0.0284732 -0.0283612; -0.0130648 -0.0109822 … -0.0201913 0.0571289]), Embedding(KFloat32[0.0223904 -0.00928706 … 0.01999 0.00243514; -0.00443635 -0.0165968 … -0.00554573 -0.021461; … ; -0.00410777 0.0431863 … -0.0115938 0.0253736; 0.0127998 -0.019281 … -0.0258449 -0.0716339]), Embedding(KFloat32[0.00328108 -0.00180102; 0.00675674 0.00141564; … ; -0.00558636 -0.00243301; -0.00825712 -0.00647022]), LayerNormalization(KFloat32[0.921038, 0.892587, 0.840731, 0.872586, 0.910665, 0.903145, 0.928933, 0.91257, 0.954167, 0.805993  …  0.868524, 0.781676, 0.918081, 0.889764, 0.861143, 0.908655, 0.903872, 0.783843, 0.878898, 0.962423], KFloat32[-0.0262504, -0.0262299, 0.0461384, 0.097543, -0.0358597, -0.0405648, 0.0265303, -0.032672, -0.00250848, -0.00376075  …  -0.0107369, -0.0639957, -0.0192386, -0.0656198, -0.0321019, 0.00774759, -0.0453048, -0.0214143, 0.0199053, 0.029999], 1.0e-12), 256, 0.1), Encoder[Encoder(SelfAttention(Linear(KFloat32[-0.0125314 -0.0240974 … -0.0100436 0.0195016; 0.0258932 0.0491387 … 0.0934063 -0.0888619; … ; 0.0638374 0.0971662 … 0.0621778 -0.0484028; 0.0389537 0.0210878 … 0.0490496 0.00518785], KFloat32[0.596514, -0.338774, -0.420514, 0.37973, -0.307352, 0.449397, 0.049057, 0.264723, 0.255708, -0.134555  …  -0.131681, -0.042187, 0.205793, 0.0547412, 0.295678, 0.00343477, -0.236189, 0.181864, -0.115694, -0.0853654]), Linear(KFloat32[0.0230095 0.0150291 … -0.0407323 -0.000411416; -0.0389667 -0.0522657 … 0.00926333 -0.0468519; … ; -0.0133398 -0.0297042 … 0.00476213 -0.0284424; -0.00706895 0.0176523 … -0.0447775 0.00967882], KFloat32[0.00104263, 0.000350291, -0.00246132, -0.000105829, -0.00119185, 0.0026922, 0.00227751, 0.000840547, 0.00223686, 0.000857024  …  -0.00302352, -0.000804328, -0.00721847, -0.00118126, -0.000522741, -0.000179581, 0.00369289, -0.0055787, 0.00572705, 0.00293136]), Linear(KFloat32[0.0209114 -0.0263529 … -0.00555018 -0.0201704; -0.00499297 -0.00667362 … 0.0377352 -0.0319768; … ; -0.0388448 -0.0128339 … 0.0169142 -0.0515445; 0.00329649 -0.0292286 … -0.0193624 -0.0370621], KFloat32[0.00475926, -0.00902621, 0.00414675, 0.00209415, -0.00131872, 0.0181394, -0.0280916, 0.0257081, -0.00380245, 0.0213524  …  0.0260964, 0.00548256, -0.0191767, 0.0378439, 0.00443777, -0.00298669, -0.00416985, -0.0117145, -0.00943393, -0.0173731]), Linear(KFloat32[-0.00853095 0.0241711 … -0.000886114 -0.0477372; 7.99652e-5 -2.86947e-6 … -0.02211 0.0120636; … ; -0.0204222 0.00767818 … -0.04421 -0.0129909; 0.0405484 -0.00850635 … -0.0382556 -0.0216257], KFloat32[0.00275622, -0.0199607, 0.02799, -0.0126683, 0.0290275, -0.0517351, -0.0162047, 0.00514804, -0.0198569, 0.0126659  …  -0.0247672, 0.0114378, -0.00714289, -0.00634609, -0.0207949, -0.0340426, -0.0289499, -0.0248435, 0.0164384, -0.0283311]), 12, 256, 768, 64, 8, 0.1, 0.1), LayerNormalization(KFloat32[0.981005, 0.960729, 0.96616, 0.976298, 0.993649, 0.996294, 0.977041, 0.976117, 0.968032, 0.947049  …  0.931828, 0.940822, 0.964244, 0.935927, 0.945918, 0.957091, 0.967795, 0.940884, 0.944589, 0.995523], KFloat32[0.255415, -0.0321045, -0.275129, -0.395657, 0.383793, -0.477691, 0.531461, 0.191811, -0.00405172, -0.00984386  …  -0.196113, 0.135935, 0.201685, 0.0775654, -0.0735761, -0.272588, 0.0775897, 0.172075, -0.0795021, -0.120116], 1.0e-12), FeedForward(Dense(Linear(KFloat32[-0.000376311 0.01154 … 0.0108399 -0.0228205; -0.0796406 0.0233403 … -0.0442858 -0.002353; … ; 0.0297406 -0.0222852 … 0.0052678 0.0118438; -0.0233839 0.0257399 … 0.0130273 0.0711318], KFloat32[-0.1169, -0.100037, -0.125791, -0.130125, -0.0587654, -0.149743, -0.100815, -0.119838, -0.137706, -0.132159  …  -0.129497, -0.114819, -0.134292, -0.14221, -0.0197138, -0.139995, -0.104713, -0.113175, -0.127959, -0.0824315]), 0.0, gelu), Linear(KFloat32[-0.043129 -0.0244816 … 0.0236394 0.0181582; 0.0607264 -0.022502 … -0.0122041 -0.0103681; … ; -0.0632376 0.0174214 … -0.0599947 0.0572332; -0.0555597 0.00667871 … 0.00968108 0.0360241], KFloat32[-0.0554663, 0.21027, 0.0285571, 0.0362072, 0.0419793, 0.0443257, -0.0585574, 0.0577716, 0.0110956, 0.0926527  …  0.218722, -0.116133, 0.0144059, 0.132921, 0.0142233, -0.0368112, -0.0589292, 0.0378082, -0.00582394, -0.00224854]), 0.1), LayerNormalization(KFloat32[0.785673, 0.807163, 0.771382, 0.74021, 0.775586, 0.770403, 0.76655, 0.795674, 0.811372, 0.763524  …  0.797166, 0.759269, 0.783123, 0.791754, 0.784195, 0.77442, 0.779225, 0.736311, 0.762143, 0.810764], KFloat32[-0.107692, 0.00229767, 0.0534346, 0.101521, -0.103445, 0.0832797, -0.194398, -0.0862236, -0.0268219, -0.0434362  …  0.0824809, -0.125599, -0.0956205, -0.0462591, 0.0151909, 0.0483596, -0.0703633, -0.0996856, 0.0105609, 0.0346681], 1.0e-12)), Encoder(SelfAttention(Linear(KFloat32[0.0370278 -0.00948053 … -0.0107077 -0.000562126; -0.0208408 -0.0214701 … -0.0136335 -0.0317406; … ; -0.0491242 0.0436366 … 0.00620687 -0.0503491; 0.0692049 0.0326059 … -0.0661955 0.0181204], KFloat32[-0.260608, 0.173605, -0.241902, -0.883867, 0.416969, 0.0196286, 0.49937, 0.270704, 0.396154, 0.0389215  …  -0.0254294, -0.0552639, 0.0188127, -0.0130626, 0.0263363, 0.0451571, -0.000837979, -0.0770189, 0.126624, -0.00740442]), Linear(KFloat32[-0.0372935 0.0429187 … -0.0074265 0.00336592; 0.0313145 0.0702135 … 0.00210492 -0.0596365; … ; 0.00659017 -0.0126181 … -0.0486102 0.0155881; 0.028299 0.0280364 … -0.00133493 0.0550298], KFloat32[-0.00504376, 0.00136878, -0.00394327, 0.00646116, -0.00148918, -0.00190902, 0.000532792, 0.000275371, 0.000303158, 0.00140118  …  -0.00727293, 0.00317768, 0.0138626, 0.00289187, 0.00572978, 0.00607313, -0.00666384, 0.00478895, -0.00100174, -0.00184508]), Linear(KFloat32[-0.0186243 0.0544522 … -0.0300538 -0.0232271; 0.00831199 -0.00648363 … -0.0374185 -0.00370202; … ; 0.0544783 -0.0114433 … 0.0277062 0.0291191; 0.0493129 0.0156144 … 0.00347097 0.0220723], KFloat32[0.00537398, 0.0299914, -0.00458131, -0.00479999, -0.0152428, -0.0201227, 0.105387, 0.0050875, -0.00595852, -0.0128426  …  0.0066381, 0.0481591, -0.00425096, -0.0323468, 0.0243423, -0.0463222, -0.0241348, -0.033772, 0.0408227, 0.0200426]), Linear(KFloat32[-0.0223945 -0.00419363 … 0.00198322 -0.00933888; 0.040453 0.0232656 … -0.00395896 -0.00818775; … ; -0.0360431 -0.00177737 … -0.00830607 0.022561; 0.00788213 -0.0213461 … 0.0130504 -0.0257934], KFloat32[0.028135, 0.0564571, 0.0152847, 0.018555, 0.0174515, -0.0423365, -0.0661691, -0.00157936, 0.0117425, -0.0561001  …  0.0447518, 0.0201163, -0.0512705, 0.0568477, -0.0190088, -0.0539225, -0.0389787, -0.0958418, 0.00181545, 0.0247304]), 12, 256, 768, 64, 8, 0.1, 0.1), LayerNormalization(KFloat32[0.90604, 0.873346, 0.862878, 0.877554, 0.955328, 0.949486, 0.908424, 0.911759, 0.908155, 0.872545  …  0.855257, 0.845369, 0.869542, 0.887988, 0.855211, 0.886746, 0.884908, 0.873242, 0.870944, 0.9043], KFloat32[0.0915283, 0.149914, -0.092776, -0.197814, 0.227593, -0.265666, 0.286855, 0.166128, 0.0240325, 0.110555  …  0.0513181, 0.018154, 0.0123323, 0.151684, -0.0249573, -0.208544, -0.0711839, 0.0272778, 0.0124702, 0.0160873], 1.0e-12), FeedForward(Dense(Linear(KFloat32[0.0295053 0.0200189 … 0.00188981 0.0304793; -0.0315026 0.00763194 … -0.00237253 -0.0144178; … ; 0.00725679 0.0438569 … 0.0375148 0.00985773; -0.0498582 0.0514479 … 0.0134948 -0.0688336], KFloat32[-0.156577, -0.108238, -0.084496, -0.0929442, -0.0849999, -0.150465, -0.105622, -0.133359, -0.142778, -0.100207  …  -0.118635, -0.114552, -0.0837703, -0.134479, -0.107785, -0.110794, -0.0540337, -0.104319, -0.0826858, -0.123327]), 0.0, gelu), Linear(KFloat32[-0.0192446 0.0101193 … 0.0157793 0.0621471; 0.0335926 -0.0210024 … 0.007813 -0.0175086; … ; 0.0186974 -0.0166882 … -0.0456305 -0.0220007; 0.00645953 0.0361526 … -0.0317369 -0.0435879], KFloat32[-0.0284274, 0.107856, -0.0294227, 0.0420162, 0.0104208, 0.0189943, -0.0636056, 0.10486, -0.0295812, 0.110354  …  0.131375, -0.0725058, -0.024738, 0.0887463, 0.0551387, 0.00640024, -0.0115556, 0.00339068, 0.00614762, -0.0165344]), 0.1), LayerNormalization(KFloat32[0.908577, 0.886652, 0.884023, 0.862472, 0.877384, 0.885216, 0.870277, 0.92371, 0.930716, 0.886638  …  0.894843, 0.853561, 0.879556, 0.881597, 0.88034, 0.883897, 0.906034, 0.829055, 0.892955, 0.93511], KFloat32[-0.0798401, -0.102697, 0.0357304, 0.0793252, -0.112901, 0.121691, -0.195561, -0.139463, -0.0777243, -0.0665637  …  -0.028993, -0.0617384, -0.0565754, -0.0885289, -0.0465065, 0.0760931, 0.00593424, -0.0469942, -0.0277054, -0.0433663], 1.0e-12)), Encoder(SelfAttention(Linear(KFloat32[0.0759656 0.0852017 … -0.0114838 -0.0229191; -0.000217702 -0.010774 … -0.0305947 -0.0296405; … ; -0.0971586 -0.00577288 … -0.0561908 -0.0450458; -0.01535 -0.0323714 … -0.0293154 0.0333894], KFloat32[0.0254483, 0.0285178, 0.291815, -0.234706, -0.0464112, -0.0624038, -0.107604, 0.171888, 0.238523, 0.0551293  …  -0.302419, -0.0549704, 0.100568, -0.147296, -0.10907, 0.0376631, 0.0125388, -0.068721, 0.0745724, 0.0234039]), Linear(KFloat32[0.0640576 0.0199365 … 0.017364 -0.00233834; 0.0921455 0.0160515 … -0.0342777 0.0804035; … ; 0.0922393 0.0551377 … 0.0305553 0.0260061; -0.0283436 0.0150158 … -0.0164251 0.0412468], KFloat32[-0.000373189, -0.00125872, -0.00112986, -0.00158112, 0.000367756, -0.00160734, -0.00129028, 0.00213482, 0.00261693, 0.00022549  …  0.00144676, -0.000181783, 0.000379259, -0.00108257, 0.000987125, -0.00164541, -0.00260254, -0.000718777, 0.00377168, 0.00106194]), Linear(KFloat32[-0.010249 -0.0150867 … -0.0258091 -0.0319188; -0.0424589 -0.0122535 … 0.0489394 0.00718025; … ; 0.0144307 -0.0269445 … 0.00634609 0.0169361; 0.0229542 -0.0312312 … 0.00521732 -0.0533985], KFloat32[-0.0342076, 0.0458289, 0.0823005, 0.0522363, 0.615098, 0.111481, -0.0553877, -0.0772435, -0.0343578, -0.0385267  …  0.0205542, -0.00680909, 0.00020832, 0.00872338, 0.00818579, 0.00254061, 0.0105948, 0.0202389, -0.0179387, -0.0273126]), Linear(KFloat32[0.0105526 -0.00429616 … -0.0347141 0.0187616; 0.0129336 0.0473612 … -0.0397574 0.0198496; … ; -0.0246751 -0.00807052 … -0.019491 -0.0200336; 0.00645919 -0.0187276 … 0.0138953 0.0341364], KFloat32[0.0217654, 0.125197, -0.0604438, 0.0625303, 0.0151629, -0.00361173, -0.0478906, 0.0138153, -0.0403713, 0.0443183  …  0.0821696, 0.0751011, -0.0521693, 0.124177, 0.00171279, -0.060567, 0.0138211, -0.0813914, 0.088452, 0.010209]), 12, 256, 768, 64, 8, 0.1, 0.1), LayerNormalization(KFloat32[0.904127, 0.894049, 0.866781, 0.869467, 0.964117, 0.924624, 0.910701, 0.902536, 0.890728, 0.868137  …  0.850931, 0.800874, 0.885143, 0.857458, 0.839023, 0.897707, 0.879436, 0.837317, 0.832761, 0.910809], KFloat32[0.156521, 0.136634, -0.199834, -0.275356, 0.341599, -0.279864, 0.25523, 0.0596012, -0.08324, 0.0230492  …  -0.114911, -0.0212768, 0.0220296, 0.158053, 0.0404132, -0.261368, -0.0522587, -0.00124932, -0.11801, -0.00104689], 1.0e-12), FeedForward(Dense(Linear(KFloat32[0.00774802 -0.0117866 … -0.0479374 0.0578029; 0.00534976 -0.0227453 … 0.000142725 -0.00271624; … ; -0.0190045 -0.0427749 … 0.0504322 -0.0161743; 0.014534 -0.051181 … 0.0134826 -0.0285095], KFloat32[-0.084457, -0.134022, -0.118349, -0.0950558, -0.030923, -0.124014, -0.137814, -0.0240601, -0.0634831, -0.117704  …  -0.159201, -0.0619585, -0.178413, -0.164466, -0.149585, -0.0800646, -0.121284, -0.120686, -0.105587, -0.102823]), 0.0, gelu), Linear(KFloat32[-0.0755376 0.0240624 … -0.0163334 0.0156317; -0.018927 -0.0191297 … 0.0102754 -0.0200277; … ; 0.0263843 0.00811287 … -0.0124842 0.0534267; 0.0209432 -0.040833 … 0.0348546 0.0342538], KFloat32[-0.0655225, 0.0687298, -0.0304415, 0.0158824, 0.0577131, -0.018003, 0.000410703, 0.0908851, -0.00138296, 0.0508091  …  0.229309, -0.0155098, -0.0325667, 0.0813682, 0.00191509, -0.0248425, -0.0760201, -0.0753876, -0.0765503, 0.00308212]), 0.1), LayerNormalization(KFloat32[0.885658, 0.864353, 0.859903, 0.858881, 0.833035, 0.870993, 0.856105, 0.906345, 0.912519, 0.858712  …  0.874303, 0.796408, 0.861562, 0.856091, 0.871076, 0.841066, 0.864434, 0.81501, 0.854397, 0.921549], KFloat32[-0.117923, -0.116271, 0.08247, 0.0892243, -0.1534, 0.138356, -0.152333, -0.0795963, -0.0190692, -0.0535541  …  0.0399958, -0.0306943, -0.0433795, -0.109271, -0.0532372, 0.0943692, -0.00656187, -0.0218869, -0.00488333, -0.0243152], 1.0e-12)), Encoder(SelfAttention(Linear(KFloat32[0.066885 -0.00644277 … -0.00331069 0.0428821; -0.0301923 0.118435 … 0.046319 0.025767; … ; 0.0360809 -0.0203959 … 0.0391922 0.0207964; 0.0615241 0.03877 … 0.0402902 -0.00565049], KFloat32[0.100931, -0.188687, 0.037339, 0.179891, -0.081973, 0.243539, -0.116227, -0.0723076, 0.13709, -0.257188  …  0.00476237, 0.0548668, 0.143323, -0.0681102, 0.0513389, 0.0280388, 0.0343582, -0.0182051, 0.0159308, 0.0602764]), Linear(KFloat32[0.0181927 0.0318997 … -0.0321061 0.0150139; 0.00198243 0.0220526 … 0.0281612 -0.00827551; … ; -0.161348 -0.00407304 … 0.00194999 -0.0383042; 0.0568523 0.0182913 … -0.0122166 0.0187852], KFloat32[0.00188306, -0.00378867, -0.0102035, 0.00969956, -0.000944984, -0.00917916, -0.00670069, -0.00684818, 0.00104163, 0.0112271  …  -0.00142713, -0.00249779, -0.00193455, 0.00605527, -0.000900843, 0.00156933, 0.000383857, 0.00346227, -0.00310676, 0.00187968]), Linear(KFloat32[0.00176943 0.00736573 … -0.00581243 0.0149731; 0.00765947 -0.0216281 … -0.012401 0.0357838; … ; 0.0235287 0.0102898 … -0.0340069 0.0207847; 0.00311671 0.00820563 … -0.00915108 -0.0228814], KFloat32[0.0423584, 0.0567238, 0.00846541, 0.00521738, 0.0117638, -0.0622149, -0.0393573, 0.0516673, -0.0273843, -0.00723244  …  0.0219373, -0.0324176, -0.00440396, -0.00469132, 0.0492044, -0.0250479, 0.00450502, -0.00685256, 0.0044645, -0.0348979]), Linear(KFloat32[0.0108539 0.0144648 … -0.0142739 -0.0371828; -0.0226728 -0.0819274 … 0.0119856 -0.0167829; … ; 0.00627325 0.0160881 … -0.0203131 -0.0158106; -0.0323472 -0.0269953 … -0.0340695 -0.0165717], KFloat32[0.0156309, 0.0399283, -0.0526082, 0.0218969, 0.0571426, 0.0302855, -0.0263746, 0.0138588, -0.058716, 0.034048  …  0.00334844, -0.154497, -0.124249, 0.144281, -0.051561, 0.00935872, -0.0326413, -0.105909, -0.0467202, -0.0629808]), 12, 256, 768, 64, 8, 0.1, 0.1), LayerNormalization(KFloat32[0.921292, 0.887782, 0.838676, 0.857617, 0.962362, 0.913804, 0.921576, 0.902043, 0.895311, 0.862046  …  0.870065, 0.736567, 0.90517, 0.878094, 0.851328, 0.891882, 0.87887, 0.805222, 0.818222, 0.914349], KFloat32[0.100857, 0.00823099, -0.0115411, -0.274716, 0.235342, -0.308405, 0.258829, 0.118597, -0.0300525, -0.0721424  …  -0.00273791, 0.077165, 0.129316, 0.142645, 0.042747, -0.173055, -0.130448, 0.0314804, -0.0805492, 0.0421403], 1.0e-12), FeedForward(Dense(Linear(KFloat32[-0.0335999 -0.0272393 … 0.0569726 -0.0384737; 0.018888 -0.0861342 … -0.0492593 0.0534945; … ; -0.0107991 0.0327088 … 0.023694 0.0334703; 0.000878946 0.0417587 … 0.0226051 0.0117068], KFloat32[-0.116791, -0.150641, -0.0797797, 0.00811763, -0.0937879, -0.11048, -0.10669, -0.0926289, -0.153968, -0.0936689  …  -0.036515, -0.141811, -0.231197, -0.0922033, -0.106215, -0.0852289, -0.111227, -0.115529, -0.157411, -0.0765214]), 0.0, gelu), Linear(KFloat32[-0.00880223 -0.0103997 … 0.0162181 0.00360934; 0.0143082 -0.0525052 … -0.00528428 -0.0198906; … ; 0.0314311 -0.00500574 … 0.0218464 -0.0124189; 0.0401606 -0.0116022 … 0.0548564 -0.00405615], KFloat32[-0.041524, 0.0886072, -0.0429818, 0.0227377, 0.124156, -0.033967, 0.00857181, 0.107083, -0.00642215, -0.0265879  …  0.104432, -0.00757867, 0.0114401, 0.0809984, -0.0147359, -0.0540675, -0.0901072, -0.0367929, 0.0349988, 0.0283808]), 0.1), LayerNormalization(KFloat32[0.836999, 0.840109, 0.824509, 0.829189, 0.806765, 0.814231, 0.809405, 0.852929, 0.867006, 0.815651  …  0.829026, 0.78288, 0.836679, 0.81931, 0.813041, 0.81319, 0.809587, 0.788196, 0.814266, 0.858404], KFloat32[-0.0788164, -0.0703204, -0.030957, 0.0572331, -0.103289, 0.0792928, -0.137313, -0.0913192, -0.0246541, -0.0165114  …  -0.0187094, -0.0578976, -0.0676776, -0.0871857, -0.0427582, 0.0163433, 0.00922753, -0.0323774, -0.00845516, -0.0541834], 1.0e-12)), Encoder(SelfAttention(Linear(KFloat32[0.0707842 0.0133138 … -0.0416553 -0.0370186; 0.0493507 -0.0273627 … -0.00932119 0.0294864; … ; 0.056876 0.045083 … 0.0456476 -0.032772; 0.0297896 -0.00132379 … 0.00172883 -0.0174887], KFloat32[0.071113, -0.135187, -0.0485137, -0.0041652, 0.122899, -0.0274352, -0.00097572, -0.00823274, -0.0836812, -0.220541  …  0.0418395, 0.018047, -0.204099, 0.105871, 0.0927693, 0.106618, -0.0635341, 0.0590473, 0.00108998, 0.284727]), Linear(KFloat32[0.0807765 0.0687294 … 0.0228461 -0.0285311; -0.045803 -0.0229906 … 0.047706 0.0551969; … ; -0.0446431 0.00546503 … -0.0717003 0.0246282; 0.0132814 -0.0132964 … 0.0393485 0.0661069], KFloat32[-0.00588925, -0.00235002, 0.00281122, 0.00173234, -0.00546912, -0.00175447, -0.00444366, -0.00383022, -0.00218411, 0.00746224  …  0.00501635, -0.00155223, -0.00461728, 0.00361112, 0.000726643, -0.00557767, -0.0013016, 0.0131573, -0.00346985, -0.000398656]), Linear(KFloat32[0.0733598 0.0617461 … 0.0132693 -0.00991072; 0.00346096 0.040462 … 0.0225334 -0.00557414; … ; 0.0448469 -0.0443935 … -0.00837859 0.109162; 0.00741321 -0.0281799 … -0.0216455 0.0192416], KFloat32[-0.0140475, -0.0285213, 0.0327146, 0.023278, -0.0393354, 0.0307359, 0.0142984, -0.00352714, 0.0157257, 0.0225164  …  0.0119436, 0.0457327, -0.0488078, 0.0242576, 0.0121584, -0.0913673, 0.0430819, -0.042235, -0.0549698, 0.0616456]), Linear(KFloat32[0.0321065 -0.0331082 … -0.0080715 -0.0105115; 0.0299032 -0.00750723 … -0.039069 0.0012897; … ; -0.00890582 0.0146349 … -0.0332673 -0.0194941; 0.0133935 -0.0298823 … 0.0142988 -0.0471456], KFloat32[0.0316142, 0.00595848, -0.0275855, -0.0396005, 0.000811242, 0.0476166, -0.0318267, -0.0324383, -0.0372905, 0.023873  …  0.00242296, -0.0460171, -0.0315085, 0.0294118, -0.0140608, -0.000906953, 0.0218056, -0.034442, 0.0195686, -0.0212355]), 12, 256, 768, 64, 8, 0.1, 0.1), LayerNormalization(KFloat32[0.897672, 0.879212, 0.819994, 0.819605, 0.957994, 0.872092, 0.89473, 0.887392, 0.876437, 0.839696  …  0.840927, 0.738816, 0.890177, 0.862094, 0.833858, 0.8771, 0.870749, 0.759147, 0.788387, 0.880433], KFloat32[0.0127199, 0.00734239, -0.0309609, -0.237056, 0.297509, -0.112122, 0.220547, 0.0562941, 0.00898308, -0.102405  …  -0.116804, 0.0744098, 0.0184153, 0.198659, 0.044474, -0.269793, -0.105838, -0.0172507, 0.036461, 0.0069042], 1.0e-12), FeedForward(Dense(Linear(KFloat32[0.011497 -0.00959824 … -0.0366418 -0.0127675; 0.0549355 0.0099402 … -0.0443466 -0.0209024; … ; 0.0116751 -0.0362203 … 0.0303408 -0.00476002; -0.014382 0.0703796 … 0.0510249 0.018158], KFloat32[-0.0937494, -0.117761, -0.118221, -0.00108828, -0.134517, -0.0940222, -0.0948405, -0.139225, -0.115523, -0.204285  …  -0.177183, -0.0956005, -0.0758371, 0.0113024, -0.041066, -0.0770856, -0.0826751, -0.0578993, -0.139732, -0.105456]), 0.0, gelu), Linear(KFloat32[-0.0362976 0.0293012 … -0.0125552 -0.0128176; 0.015134 0.00652288 … 0.0643495 0.00857149; … ; -0.000812842 0.0519178 … -0.0114406 -0.0429863; -0.0614464 -0.0507425 … -0.0289173 -0.0139343], KFloat32[-0.0555554, 0.0504975, 0.0113411, 0.0544813, 0.088264, 0.000197722, -0.0119283, 0.0771945, -0.0264195, -0.0112834  …  0.0846865, -0.0229498, -0.0150063, 0.0491452, -0.0374006, -0.0150699, -0.0814351, -0.059123, -0.0463643, 0.00848171]), 0.1), LayerNormalization(KFloat32[0.879553, 0.864118, 0.837087, 0.850229, 0.81027, 0.847874, 0.835805, 0.885869, 0.88623, 0.863625  …  0.855546, 0.790329, 0.861397, 0.830061, 0.859429, 0.809108, 0.864894, 0.812749, 0.857476, 0.896309], KFloat32[-0.0425801, -0.076427, -0.0134896, 0.0533873, -0.128034, 0.00855373, -0.125383, -0.0716734, -0.0314538, 0.0153915  …  0.0107066, -0.0537924, -0.0524468, -0.0966409, -0.0690476, 0.0742452, -0.0319214, -0.0287913, -0.0416268, -0.0554131], 1.0e-12)), Encoder(SelfAttention(Linear(KFloat32[-0.00703597 -0.0285358 … 0.0102814 0.0135769; 0.00097537 -0.00936906 … 0.0164477 -0.0857086; … ; -0.00423259 0.002896 … 0.0241533 -0.021946; 0.0174123 0.0378083 … 0.0520526 0.0800711], KFloat32[-0.0100324, -0.0184221, -0.0458246, 0.00853763, 0.0351795, 0.0413976, 0.0360579, 0.128114, 0.000118834, 0.0449305  …  0.0271423, -0.0505524, -0.0293804, -0.224029, -0.0495308, 0.0202956, -0.00938978, -0.0209216, -0.355761, -0.00516334]), Linear(KFloat32[0.00216522 0.0220188 … 0.0225929 0.0533203; 0.0240097 -0.0870823 … 0.0207692 0.013963; … ; 0.003771 -0.00873408 … -0.0514878 0.00835304; 0.026735 -0.0193323 … -0.00568433 -0.0117913], KFloat32[-0.0108711, -0.0117642, 0.000165407, -0.0116235, 0.00946288, -0.011528, 0.00118585, -0.00551473, -0.000733038, 0.00575767  …  0.00109014, 0.00634691, -0.0106609, -0.00927198, 0.00359072, 0.00747549, 0.00126911, -0.00255274, -0.0176024, -0.00532156]), Linear(KFloat32[0.0555403 0.0244745 … 0.0213199 -0.0339596; -0.00437965 -0.0270834 … -0.00891732 -0.00585846; … ; 0.00575841 0.0464034 … 0.0228202 -0.0256106; -0.0511 -0.00683464 … 0.0236682 0.0219551], KFloat32[0.0498581, -0.0314158, -0.00567899, 0.00579905, 0.0414394, -0.0207871, -0.0106538, 0.0102934, 0.0401719, -0.0153665  …  0.0463233, -0.0193844, -0.0441503, 0.0139379, -0.00181875, -0.00152454, -0.0153797, -0.0167332, -0.0303927, -0.0106458]), Linear(KFloat32[-0.00946778 0.0465848 … -0.0183065 0.0116488; 0.00210877 0.0240714 … 0.0275782 0.0115241; … ; 0.034589 0.0637352 … -0.0717007 -0.0216155; 0.00835275 -0.0128467 … 0.00880504 -0.00148541], KFloat32[0.000154294, 0.0217987, -0.0376636, 0.00779527, 0.0110158, 0.00900967, -0.0338065, 0.0139691, -0.0400911, -0.00863933  …  0.0358283, 0.00949225, -0.0449934, 0.0235681, -0.0261035, -0.0199313, 0.036595, -0.00453109, -0.00268802, -0.0282772]), 12, 256, 768, 64, 8, 0.1, 0.1), LayerNormalization(KFloat32[0.897715, 0.881989, 0.823586, 0.811437, 0.974489, 0.906607, 0.884648, 0.880992, 0.872106, 0.848586  …  0.852349, 0.751214, 0.8852, 0.842541, 0.82353, 0.881825, 0.875622, 0.759031, 0.811465, 0.904252], KFloat32[-0.0688961, -0.0150687, 0.102099, -0.245643, 0.294576, -0.0994807, 0.0936654, 0.139206, -0.0308536, -0.106517  …  -0.087723, 0.0458529, 0.043178, 0.10691, -0.0158028, -0.142907, -0.222188, 0.0357236, -0.0094081, 0.0408247], 1.0e-12), FeedForward(Dense(Linear(KFloat32[-0.0221165 0.0627425 … 0.0282371 0.01288; 0.081766 0.036988 … -0.0704142 0.0441318; … ; 0.0390884 -0.028572 … 0.0239541 0.0471209; 0.00140126 -0.0520392 … 0.012313 -0.0396623], KFloat32[-0.10015, -0.282124, -0.137595, -0.118036, -0.107364, -0.0885115, -0.0968743, -0.0380096, -0.0465242, -0.140026  …  -0.12818, -0.122244, -0.0611703, -0.172408, -0.0908077, -0.0707623, -0.13998, 0.431418, -0.0648138, -0.11109]), 0.0, gelu), Linear(KFloat32[0.067354 -0.0596034 … 0.0236187 -0.0239624; -0.0150209 0.0915779 … -0.0508774 0.00138836; … ; -0.046135 0.0391662 … -0.059455 -0.0071027; -0.00840838 0.0684632 … 0.0297561 0.012013], KFloat32[-0.000914299, 0.0639834, 0.000402025, 0.0384584, 0.0618297, -0.00320292, 0.0456076, 0.0628884, -0.0407698, 0.0093179  …  0.133968, -0.035967, -0.081569, 0.0326926, -0.0495605, -0.0312476, -0.0615295, -0.017486, -0.0354496, 0.0192363]), 0.1), LayerNormalization(KFloat32[0.865178, 0.853618, 0.828574, 0.822509, 0.798748, 0.848673, 0.845135, 0.865426, 0.877865, 0.84218  …  0.848693, 0.785289, 0.866089, 0.846731, 0.837512, 0.822483, 0.838173, 0.825997, 0.828336, 0.878828], KFloat32[-0.00107029, -0.0527674, -0.0613477, 0.0659776, -0.194544, 0.00024867, -0.0848779, -0.111905, -0.0217896, 0.0243767  …  0.0318716, -0.0410186, -0.0608758, -0.0834275, -0.0532214, 0.0589733, 0.0254245, -0.0326826, -0.0410644, -0.0618449], 1.0e-12)), Encoder(SelfAttention(Linear(KFloat32[-0.0320905 -0.0235327 … -0.0424441 0.00573743; 0.0631225 -0.0484869 … 0.0188584 -0.0389573; … ; -0.00997725 -0.0305471 … 0.00984728 0.02388; -0.00409498 0.0158107 … -0.00208451 0.0305132], KFloat32[-0.177626, 0.283176, 0.177058, -0.117357, 0.163422, -0.119488, -0.264227, -0.13899, -0.31371, -0.471069  …  -0.0234524, -0.0294037, -0.0421488, -0.171979, -0.00416284, -0.0753574, -0.00251671, 0.042349, -0.00283091, -0.361992]), Linear(KFloat32[0.0638853 0.0101442 … 0.00612606 0.0101818; 0.0316505 -0.0363272 … 0.0730237 -0.0487617; … ; -0.043016 -0.0408674 … 0.00740017 -0.00422673; -0.0164335 0.031772 … 0.00792483 0.0102856], KFloat32[-0.004246, -0.000118961, 0.00460458, -0.00315649, 0.00434239, -0.000256675, -0.00506765, -0.00139198, -0.00540428, 0.0165043  …  -0.00175301, -0.00267699, 0.00349895, 0.00286292, -0.00177116, -0.00309696, -0.00310136, -0.00234223, -0.0052737, -0.000388134]), Linear(KFloat32[-0.0112262 0.00115284 … -0.0265157 0.034277; 0.00498519 0.0015998 … 0.0191543 -0.0086046; … ; 0.0237067 -0.00560849 … 0.00443737 0.0138841; 0.0357379 -0.0474511 … 0.0331378 -0.0151574], KFloat32[-0.0376277, 0.0164517, 0.000885425, -0.0120121, -0.003617, 0.0504331, 0.012638, -0.00318629, 0.0357315, 0.0262525  …  -0.0460782, -0.0689359, 0.0354768, 0.0700535, 0.019437, -5.22319e-5, -0.0335336, -0.0619196, -0.0285223, -0.0197717]), Linear(KFloat32[0.0151619 -0.000703872 … -0.0298908 0.00498726; -0.0261395 0.0124088 … 0.0156308 0.0380366; … ; 0.00606884 0.0119803 … 0.0357927 -0.0390197; -0.00783651 -0.0180423 … -0.00764106 0.0162486], KFloat32[-0.0084483, -0.056118, -0.0518198, -0.019386, -0.0219611, 0.0482919, -0.0319447, -0.0340057, -0.0269769, -0.0466023  …  0.0300536, -0.0405738, 0.000299813, 0.00979882, 0.00638778, 0.0186082, 0.030515, -0.0345119, -0.0139122, -0.0299993]), 12, 256, 768, 64, 8, 0.1, 0.1), LayerNormalization(KFloat32[0.898563, 0.875281, 0.800635, 0.786749, 0.928416, 0.872507, 0.867194, 0.865825, 0.847492, 0.836186  …  0.809868, 0.711962, 0.882626, 0.823361, 0.821927, 0.856895, 0.812276, 0.750555, 0.806233, 0.889248], KFloat32[-0.0679422, 0.0352994, 0.162577, -0.15743, 0.153056, -0.0459599, 0.16078, 0.048005, -0.0657152, -0.014104  …  0.02209, 0.034399, 0.0615105, 0.0766888, -0.0336425, -0.232901, -0.184738, 0.150854, -0.0378862, 0.0157306], 1.0e-12), FeedForward(Dense(Linear(KFloat32[0.0469478 -0.0391501 … 0.053504 0.0183964; 0.0557571 0.04502 … -0.0625994 0.00970282; … ; -0.0510314 0.0774716 … -0.00813778 -0.00744252; 0.00322046 -0.0119369 … 0.0614438 0.0548934], KFloat32[-0.087062, -0.16334, -0.107593, -0.100631, -0.177566, -0.129952, -0.0990657, -0.0530325, -0.0862519, -0.256029  …  -0.0707951, -0.0442083, -0.242616, -0.0838288, -0.0830784, -0.105785, -0.078577, -0.145777, -0.170239, -0.186494]), 0.0, gelu), Linear(KFloat32[0.00997404 2.45137e-5 … -0.00279634 0.0536866; -0.0197475 0.0182786 … 0.00982973 0.0289547; … ; 0.01007 0.0124394 … -0.00316106 0.0313432; -0.0143475 0.0425193 … 0.018453 0.0170202], KFloat32[-0.0322116, 0.0631164, 0.0317852, 0.0224458, 0.0890892, 0.0327693, 0.0664198, 0.139394, -0.0170194, 0.00735451  …  0.14323, -0.13455, -0.0806511, 0.0814679, -0.0591698, 0.0369674, -0.0691738, 0.0250644, -0.00860303, 0.00378411]), 0.1), LayerNormalization(KFloat32[0.87567, 0.867783, 0.815866, 0.829422, 0.83233, 0.855686, 0.838475, 0.867819, 0.883889, 0.855821  …  0.848331, 0.827132, 0.84988, 0.839781, 0.857761, 0.838229, 0.848125, 0.797158, 0.833975, 0.870615], KFloat32[-0.0127295, -0.0304893, -0.0904985, 0.0445355, -0.144895, -0.024197, -0.0994711, -0.0862123, -4.30946e-5, -0.0167518  …  -0.0362838, -0.0539902, -0.0869694, -0.0842818, -0.0399579, 0.095863, 0.0143196, -0.0584756, -0.0262519, -0.0513966], 1.0e-12)), Encoder(SelfAttention(Linear(KFloat32[0.00896527 -0.00648313 … 0.00666649 -0.0609829; -0.0645792 -0.0214259 … 0.0373848 -0.00721878; … ; 0.00241922 -0.0137526 … 0.0931021 0.0153918; 0.0233109 -0.0709136 … -0.00359787 -0.0128817], KFloat32[-0.000628368, -0.00427145, 0.327254, 0.0482903, -0.0101103, 0.025975, -0.0671861, -0.0414595, -0.0326851, -0.0614032  …  0.0467369, 0.118603, 0.609178, -0.0507981, -0.0659099, 0.0460094, 0.0249538, -0.234628, -0.0180062, -0.0482316]), Linear(KFloat32[0.0284992 -0.0258194 … -0.0752375 -0.0028737; -0.00149629 -0.0553238 … -0.0526777 0.0558756; … ; 0.00437037 -0.0204206 … 0.00642409 -0.0567617; 0.00443021 -0.0106635 … 0.0215944 0.0032094], KFloat32[-0.000740833, 0.00732449, 0.000985629, 0.00346116, 0.000438284, 0.0114086, -0.00579523, 0.00672868, -0.00161431, -0.00181688  …  -0.00115321, -0.00153366, -0.00313612, -0.00171685, 0.000849927, -0.00669145, 0.00362517, 0.00852484, -0.00966807, 0.00172212]), Linear(KFloat32[-0.00224545 -0.044981 … -0.00805686 0.0288855; 0.0346811 -0.00812104 … 0.0270245 -0.0217475; … ; -0.0485482 0.00525021 … -0.0067748 0.0378505; 0.023758 -0.01517 … -0.0343746 -0.0925177], KFloat32[-0.0197343, 0.0140509, 0.00234974, -0.0342493, 0.00541747, -0.0124649, -0.0159743, -0.00417507, 0.000201565, -0.00477054  …  0.0157086, 0.0382228, -0.0695548, -0.169293, 0.00342002, 0.0159958, 0.025315, 0.0128415, 0.0901567, -0.04497]), Linear(KFloat32[-0.0539293 0.0103668 … -0.013565 0.019315; 0.0285253 -0.000212049 … -0.0137611 -0.0283956; … ; 0.0495934 0.0325584 … 0.0168915 0.0556689; -0.0264026 -0.00972839 … 0.0110641 0.0158965], KFloat32[0.00350443, -0.0573286, -0.061193, -0.0371589, 0.0362978, -0.011181, -0.0321375, 0.0405997, -0.0192735, -0.046595  …  0.0392835, -0.0137947, -0.00819177, -0.0010802, -0.00391018, -0.0133678, 0.0951157, -0.0907368, -0.0410951, -0.0382667]), 12, 256, 768, 64, 8, 0.1, 0.1), LayerNormalization(KFloat32[0.881622, 0.876344, 0.793083, 0.761243, 0.929209, 0.848779, 0.861767, 0.862238, 0.85239, 0.841594  …  0.820177, 0.695762, 0.861209, 0.812049, 0.795916, 0.857464, 0.828999, 0.768391, 0.796986, 0.887361], KFloat32[-0.029431, 0.0463614, 0.0540025, -0.0473204, 0.168531, -0.0262122, 0.180307, 0.104632, -0.0197971, -0.102608  …  -0.0678709, -0.0596223, -0.0339695, 0.0124973, 6.53852e-6, -0.0386522, -0.23865, 0.108274, 0.0248636, -0.0158561], 1.0e-12), FeedForward(Dense(Linear(KFloat32[0.0484802 0.00256627 … -0.0751743 0.0176594; -0.10155 -0.0617603 … 0.00568311 -0.0040159; … ; 0.0483959 0.00350528 … 0.0571018 0.0211979; -0.0367129 -0.0303013 … 0.0136973 -0.0329795], KFloat32[-0.131688, -0.0892379, -0.0619609, -0.0810045, -0.0866559, -0.15773, -0.0676666, -0.104892, -0.0658851, -0.112908  …  -0.145807, -0.067306, -0.210487, -0.0881774, -0.159211, -0.155998, -0.215355, -0.033194, -0.229607, -0.0633825]), 0.0, gelu), Linear(KFloat32[-0.0313085 -0.109376 … 0.00434493 0.0139654; -0.00634838 -0.0383636 … -0.014755 0.0214562; … ; -0.0210953 0.0286534 … 0.119088 0.00249492; -0.043793 -0.0162001 … 0.0472122 0.0114457], KFloat32[-0.0415286, 0.0380192, 0.0558934, -0.0478377, 0.025836, -0.0515832, 0.0506327, 0.0854503, -0.0831816, -0.0146496  …  0.106682, -0.161671, -0.0999822, 0.104364, 0.0592195, -0.000923089, -0.13732, 3.75149e-5, -0.0372628, -0.0522225]), 0.1), LayerNormalization(KFloat32[0.843361, 0.821854, 0.805293, 0.822919, 0.782836, 0.818317, 0.789613, 0.841527, 0.84722, 0.819969  …  0.834522, 0.818159, 0.847986, 0.824122, 0.812012, 0.816405, 0.818372, 0.776499, 0.809847, 0.844429], KFloat32[-0.0321487, -0.0450338, -0.0561477, -0.0175777, -0.172329, -0.0380185, -0.104658, -0.0754746, -0.0290361, -0.0243589  …  -0.0250188, -0.0214711, -0.0438003, -0.0897225, -0.041106, 0.0152172, 0.0289193, -0.0823017, -0.0584448, -0.0382355], 1.0e-12)), Encoder(SelfAttention(Linear(KFloat32[0.0388164 0.0271046 … 0.00510517 -0.0208955; 0.0607835 -0.00956456 … -0.0323042 0.0673651; … ; -0.0185454 -0.0104098 … -0.0457763 0.0122475; 0.00434548 0.0527196 … -0.0116207 0.0220666], KFloat32[-0.258701, -0.247156, 0.0246178, 0.00929726, 0.190205, -0.111973, 0.438829, 0.139277, 0.51057, -0.20131  …  0.283882, -0.0612375, -0.0172269, -0.306779, 0.113691, -0.181302, 0.20953, -0.0201566, -0.0364933, -0.183534]), Linear(KFloat32[-0.00756848 0.0253631 … -0.0174846 -0.0691879; -0.00338899 -0.0545311 … -0.0528538 0.00997738; … ; 0.0153478 -0.00652499 … 0.0174606 0.0458532; -0.018448 0.0231719 … -0.0827516 0.0261125], KFloat32[4.84552e-5, 0.00345531, -0.00175954, -0.00612634, -0.00043859, -0.010083, -0.00324462, -0.0176641, -0.00546734, -0.00456329  …  0.00725202, 0.00075686, 0.00991323, -0.00775879, 0.00407166, -0.000156444, 0.00167567, 0.000527598, -0.00631207, 0.00110785]), Linear(KFloat32[-0.00407655 -0.0304675 … 0.0219425 -0.00699568; -0.0315303 -0.00780581 … 0.0258201 -0.035392; … ; -0.0013821 0.00791398 … 0.0142248 -0.0445342; -0.0282779 0.030217 … -0.00987703 -0.0111146], KFloat32[0.024169, 0.00723856, -0.03573, 0.00280749, -0.026287, 0.00806716, -0.00525383, -0.0275214, 0.0373534, 0.0383706  …  0.0200117, -0.00722892, 0.0336776, -0.0215702, 0.0505285, 0.0265787, -0.00585558, -0.018169, -0.00959817, 0.0118585]), Linear(KFloat32[0.0362245 0.0445233 … 0.0325878 -0.002754; -0.0137367 0.0170755 … 0.0313821 -0.00911497; … ; 0.0115601 -0.0127798 … 0.0302142 -0.00327504; -0.0013892 -0.0228715 … 0.0159314 0.0411723], KFloat32[0.0131591, -0.0557545, -0.0630387, 0.00300814, 0.027906, -0.0747646, -0.0230393, 0.00505034, -0.0158796, -0.0362536  …  0.0351204, 0.0502527, 0.00152056, 0.0236999, -0.108068, 0.0417671, 0.0916544, -0.0332293, 0.0206049, -0.006822]), 12, 256, 768, 64, 8, 0.1, 0.1), LayerNormalization(KFloat32[0.898273, 0.89862, 0.815009, 0.783865, 0.904057, 0.857047, 0.899352, 0.866709, 0.86916, 0.867383  …  0.838021, 0.762782, 0.835373, 0.813659, 0.830329, 0.848087, 0.847626, 0.784163, 0.806893, 0.888964], KFloat32[-0.062369, 0.043276, 0.089764, -0.151134, -0.054906, -0.0103397, 0.260581, 0.097807, -0.0870408, -0.181704  …  -0.0812599, -0.135191, -0.0470538, -0.0741931, 0.0915758, -0.128805, -0.250249, -0.00319491, -0.0889768, -0.0569763], 1.0e-12), FeedForward(Dense(Linear(KFloat32[0.00463911 0.0240151 … -0.0112991 0.0802082; -0.0136311 0.00828379 … 0.0590412 0.0246431; … ; 0.00985721 0.0859319 … -0.00196432 0.0228469; 0.00299473 -0.0308479 … 0.0706927 -0.0199022], KFloat32[-0.0791842, -0.172961, -0.106286, -0.115164, -0.131361, -0.020113, -0.122497, 0.0145773, -0.12476, -0.125177  …  -0.124953, -0.101673, -0.0986047, -0.0852359, -0.0423655, -0.0538767, -0.124611, -0.127897, -0.178045, -0.180434]), 0.0, gelu), Linear(KFloat32[-0.0301868 0.0325206 … 0.0209579 -0.0130637; -0.0101236 0.0209914 … 0.0311992 0.00960506; … ; -0.029839 4.30147e-6 … -0.0387052 -0.0431132; -0.0170483 0.00593194 … 0.0385936 0.0212801], KFloat32[-0.0912109, -0.0451974, 0.0529481, -0.0976375, 0.116918, 0.0701795, 0.0488588, 0.133395, -0.0716097, -0.00940306  …  0.070759, -0.137781, -0.0952152, 0.00487934, 0.0521733, -0.0662693, -0.0787949, -0.0418508, -0.0363682, -0.0731502]), 0.1), LayerNormalization(KFloat32[0.849397, 0.853644, 0.830864, 0.843624, 0.824219, 0.846206, 0.804246, 0.84158, 0.853735, 0.833238  …  0.853754, 0.834877, 0.849305, 0.852848, 0.850947, 0.820988, 0.805521, 0.847078, 0.826297, 0.858821], KFloat32[-0.0629248, -0.0711301, -0.0580446, -0.00312697, -0.107833, -0.022097, -0.133269, -0.0813468, 0.000947313, 0.0241789  …  -0.00692475, 0.00971595, -0.0569504, -0.0772161, -0.0526174, 0.0480974, 0.0344029, -0.0474425, -0.0228142, -0.0208941], 1.0e-12)), Encoder(SelfAttention(Linear(KFloat32[0.0715192 -0.0430378 … 0.0232648 -0.0721848; 0.0228642 -0.0591152 … 0.0633709 -0.000211997; … ; 0.0018771 -0.0579609 … 0.0260652 -0.0275993; 0.010974 0.0189026 … -0.0304687 -0.0220579], KFloat32[-0.155194, 0.419576, -0.329738, -0.0296491, -0.2639, -0.0124473, 0.287049, 0.292418, -0.0906055, 0.412139  …  -0.0767008, -0.0480644, -0.0386395, -0.140976, 0.07246, 0.101828, 0.0485731, -0.00439472, -0.0466305, -0.0198388]), Linear(KFloat32[-0.000647281 -0.00523023 … -0.0436089 0.0308901; -0.000743133 -0.0537896 … -0.00546788 0.0213209; … ; 0.0523733 -0.0609509 … -0.0625646 0.0212718; 0.01391 0.0205155 … -0.0249456 -0.0124143], KFloat32[-0.0051125, 0.00834389, 0.0037761, 0.00929363, -0.00419275, -0.00804659, 0.00358508, 0.005272, -0.00335078, 0.00376932  …  -0.014526, -0.00830259, -0.00344179, -0.0117241, -0.0126948, 0.0118298, -0.00238022, 0.00463774, -0.00644765, 0.00038889]), Linear(KFloat32[-0.0139388 -0.0402653 … 0.0194042 -0.00925736; 0.0235448 0.0260353 … 0.00421942 0.0475911; … ; 0.0209995 0.0423156 … -0.0367257 0.00384488; 0.0660312 -0.0111658 … -0.0495049 0.01306], KFloat32[-0.0432247, -0.0200408, 0.00323672, -0.000899292, 0.0509734, -0.0313252, -0.0391894, 0.00579211, 0.00121049, 0.00186705  …  -0.00502531, 0.0111507, 0.00790766, -0.0207992, -0.0289624, -0.0109599, 0.0239687, -0.0129929, -0.0178019, -0.0167052]), Linear(KFloat32[0.000760623 0.00244885 … 0.00147388 0.0303591; 0.0110061 -0.0099471 … -0.036718 -0.0412512; … ; 0.0160549 -0.00364059 … -0.00477767 -0.010384; -0.0246738 -0.0280702 … 0.0155861 0.0109737], KFloat32[0.0212502, 0.0493468, -0.0671334, -0.0158188, 0.0119973, -0.0537279, -0.0296846, -0.0607311, 0.0258002, -0.0373451  …  0.0507148, 0.0449629, -0.0357749, 0.0241432, -0.0840274, 0.00712703, 0.106785, -0.0639751, -0.060085, -0.0649474]), 12, 256, 768, 64, 8, 0.1, 0.1), LayerNormalization(KFloat32[0.857594, 0.829514, 0.798337, 0.773125, 0.896423, 0.83883, 0.864829, 0.865001, 0.841054, 0.838779  …  0.830951, 0.775382, 0.818042, 0.775587, 0.801966, 0.828543, 0.823921, 0.7732, 0.808528, 0.862775], KFloat32[-0.094489, -0.065302, 0.0724158, -0.106003, 0.0923605, 0.0956846, 0.173821, 0.176316, -0.12405, -0.172564  …  -0.090833, -0.160664, 0.0624419, -0.139933, 0.0653048, -0.166307, -0.175211, -0.0546064, -0.0749023, -0.0699072], 1.0e-12), FeedForward(Dense(Linear(KFloat32[0.0487061 -0.0118265 … 0.0137912 -0.0579595; 0.00784316 -0.0229906 … -0.00967215 -0.0346685; … ; -0.0039208 0.0609452 … 0.0861011 -0.0546284; 0.0227673 -0.0353637 … 0.0426296 -0.00971514], KFloat32[-0.108791, -0.00584135, -0.0941776, -0.105397, -0.143535, -0.119502, -0.127852, -0.124293, -0.0540293, -0.112188  …  -0.100539, -0.0836761, -0.0544823, -0.108502, -0.101315, -0.107486, -0.15039, -0.0250884, -0.0697383, -0.096078]), 0.0, gelu), Linear(KFloat32[0.0506214 0.00763107 … -0.0210749 -0.0381577; 0.0100306 0.0272092 … -0.0173806 -0.0254556; … ; 0.00549996 0.00046856 … 0.0432146 -0.0188744; -0.0273861 -0.00706908 … 0.0187039 0.00153592], KFloat32[-0.0883273, -0.0204082, -0.0364724, -0.0830269, 0.0955854, 0.0626112, 0.06784, 0.0652947, -0.0507099, -0.0689095  …  0.0548709, -0.0256723, 0.0332503, -0.0447851, 0.137993, -0.00790642, -0.0567217, 0.0317385, 0.0205113, 0.00850145]), 0.1), LayerNormalization(KFloat32[0.835835, 0.840334, 0.777607, 0.812151, 0.786886, 0.824662, 0.783895, 0.783048, 0.823728, 0.79853  …  0.820425, 0.797225, 0.818381, 0.820798, 0.80959, 0.791895, 0.794933, 0.804462, 0.822817, 0.837176], KFloat32[-0.038307, -0.0210817, -0.0758258, -0.00878752, -0.0992655, -0.0640754, -0.115336, -0.0920016, 0.0066929, 0.013534  …  -0.0235416, 0.041162, -0.0602311, -0.022866, -0.0730742, 0.0513098, 0.0323097, -0.0140102, -0.0248398, -0.0272981], 1.0e-12)), Encoder(SelfAttention(Linear(KFloat32[-0.00846596 -0.00904127 … -0.0382526 0.0681221; 0.0330938 0.0272398 … 0.00629995 -0.0304994; … ; -0.0113931 0.0501928 … 0.028472 0.0166265; 0.0117777 0.0319319 … -0.109675 -0.0336947], KFloat32[-0.0400402, -0.027469, -0.0458579, -0.0078563, -0.0557169, -0.0605462, -0.00215188, 0.0686311, -0.0223629, -0.0287055  …  -0.00639185, 0.0471284, -0.0203689, 0.00467536, -0.0199282, -0.132879, -0.0467959, -0.279584, 0.00949014, -0.0180372]), Linear(KFloat32[-0.0415346 0.0583549 … -0.0764208 -0.0259351; -0.0212556 -0.0505614 … 0.00300912 -0.08072; … ; -0.0274155 0.0257912 … 0.0244161 -0.0778932; 0.0674779 0.0631988 … -0.0650166 -0.0115442], KFloat32[-0.00693039, 0.0085596, 0.00670912, -0.00524555, -0.000174295, 0.0050662, 0.00418257, 0.00185772, -0.00101529, 0.00119562  …  -0.00107656, 0.00569142, -0.00113544, 0.00514889, 0.00990483, -0.0101674, -0.00164622, -0.002075, -0.00216864, 0.0041604]), Linear(KFloat32[0.0314202 0.0505874 … -0.00500523 -0.0905331; 0.0414027 0.0663632 … -0.00505953 -0.0179972; … ; -0.00861006 -0.00320221 … -0.0992578 -0.0114624; -0.0924014 0.083238 … 0.0251702 -0.0173277], KFloat32[-0.0154709, -0.0121216, -0.00774924, -0.00259434, -0.000927358, 0.0252472, -0.00685565, 0.0100812, 0.0178414, -0.0328056  …  0.0342542, -0.0247867, -0.0126417, 0.0399945, -0.00207709, 0.00777719, 0.0566921, 0.0223318, -0.00432853, -0.0143106]), Linear(KFloat32[-0.0374263 0.0336529 … -0.01775 0.015367; -0.0337741 -0.0223491 … -0.0061594 -0.0795335; … ; 0.0236563 0.00123772 … 0.0353524 -0.0357039; -0.00476478 -0.0466988 … -0.0210365 0.00336914], KFloat32[0.0225386, 0.014959, 0.0542274, 0.0298167, 0.0159205, 0.0176375, 0.0244215, -0.0689132, 0.0297022, 0.0566074  …  -0.00590228, -0.00464236, -0.0843023, 0.0275345, -0.017384, -0.0811144, -0.00279512, 0.0370788, -0.0891135, -0.132582]), 12, 256, 768, 64, 8, 0.1, 0.1), LayerNormalization(KFloat32[0.857921, 0.822616, 0.845871, 0.775152, 0.886226, 0.833409, 0.832226, 0.879852, 0.832022, 0.836092  …  0.828863, 0.833162, 0.84515, 0.795485, 0.817476, 0.8566, 0.825461, 0.813878, 0.819559, 0.842449], KFloat32[-0.109651, -0.0417605, 0.0362388, -0.0636018, 0.158169, 0.023189, 0.0174584, 0.150409, -0.109643, -0.0316043  …  -0.117351, -0.0167175, 0.116653, -0.0667549, 0.00410766, -0.127346, -0.0299201, -0.078612, -0.050465, -0.0595335], 1.0e-12), FeedForward(Dense(Linear(KFloat32[-0.0613653 -0.0327641 … 0.0240241 0.0818172; 0.0733787 0.0279311 … 0.0178987 -0.0321581; … ; -0.0278835 -0.0285588 … 0.00333484 0.0334873; -0.0295649 0.0164237 … 0.0065991 0.0520008], KFloat32[-0.144958, -0.063249, -0.145886, -0.152788, -0.103942, 0.0448957, -0.102309, -0.122734, -0.0889336, -0.0325621  …  -0.12772, -0.0674632, -0.0898458, -0.167649, -0.136661, -0.126413, -0.115664, -0.0492113, -0.112593, -0.103311]), 0.0, gelu), Linear(KFloat32[0.0229222 -0.0331473 … 0.0166346 -0.00178451; 0.0304881 0.0276935 … -0.00662481 -0.00486354; … ; -0.0501759 -0.0102409 … 0.00936838 -0.0614161; -0.0296648 -0.0155245 … 0.0226335 0.022399], KFloat32[-0.0186336, 0.111696, -0.0298404, -0.0339797, 0.103479, 0.1251, 0.0886984, 0.0852141, -0.0823288, -0.116562  …  -0.0102634, -0.0301755, 0.114603, -0.0972063, 0.172549, -0.0835289, -0.093207, 0.0334924, 0.0381817, 0.00640153]), 0.1), LayerNormalization(KFloat32[0.835903, 0.866589, 0.79692, 0.818541, 0.836397, 0.832215, 0.812946, 0.797133, 0.83847, 0.814139  …  0.82734, 0.814174, 0.863259, 0.844337, 0.83415, 0.806062, 0.81293, 0.827399, 0.82871, 0.839287], KFloat32[0.0184391, -0.0192821, -0.0826565, -0.00922328, -0.0757732, -0.0849442, -0.048473, -0.105045, -0.00103142, -0.0221743  …  -0.015187, -0.0145156, -0.0608686, -0.00666481, -0.0518845, 0.0409791, 0.00173667, -0.0298248, -0.0567055, -0.0422205], 1.0e-12)), Encoder(SelfAttention(Linear(KFloat32[-0.0619166 -0.0930355 … 0.0546556 -0.0446889; -0.00119244 -0.0264885 … 0.00179513 0.0322623; … ; 0.0456402 -0.0705614 … -0.0823758 0.0442187; -0.0570816 0.01517 … 0.00746658 -0.043325], KFloat32[0.0452436, 0.12612, 0.215809, 0.0964397, -0.209281, 0.234274, -0.358509, 0.0569348, -0.435072, 0.122037  …  0.0714506, 0.0529339, -0.0835622, 0.287433, 0.096056, -0.154332, -0.197719, 0.259118, 0.181829, 0.179459]), Linear(KFloat32[0.0214798 -0.0195324 … 0.00124895 0.0471457; -0.0154309 -0.0528643 … -0.0267105 0.0482504; … ; 0.0707313 0.0509169 … -0.0224189 0.000925252; -0.0289973 -0.00265497 … 0.0897006 -0.0569181], KFloat32[-0.000784431, -0.000662038, -0.000104968, 0.00119019, -0.00179686, -0.00275173, -0.000776681, 0.00258377, -0.0225535, -0.0026923  …  -0.00278521, -0.0119263, 0.00207065, 0.00312377, 0.003316, 0.0100499, 0.000155324, -0.00759888, 0.00313334, -0.00141902]), Linear(KFloat32[0.0372145 -0.0207322 … -0.0470994 0.0115737; -0.0383612 -0.0274311 … -0.0079893 -0.0166647; … ; 0.0173978 0.0096083 … 0.120101 0.00340503; -0.0509606 -0.0291448 … -0.0107127 -0.0572358], KFloat32[0.0193677, -0.00475728, 0.00103245, -0.000514294, -0.00533322, 0.00755855, -0.0113693, -0.00703755, 0.00471488, -0.00458319  …  0.000203516, -0.0191094, 0.00400823, 0.0029437, -0.0166149, -0.0119975, -0.00789729, 0.00339477, -0.0155796, 0.0160248]), Linear(KFloat32[0.045823 0.0363964 … -0.016208 -0.0973066; -0.0371547 -0.0177871 … -0.0752646 0.0104237; … ; -0.0448876 -0.00241771 … 0.0865968 -0.0553478; -0.0306689 -0.0218722 … 0.00749161 0.0267396], KFloat32[0.0267571, 0.00660395, -0.000254276, 0.0233143, -0.00932865, -0.0577665, 0.000551676, -0.0176162, 0.0469589, 0.0399452  …  0.0412048, 0.0155685, -0.060947, 0.0124328, -0.0328537, 0.0127199, 0.0336913, 0.00536097, -0.0532224, -0.0549582]), 12, 256, 768, 64, 8, 0.1, 0.1), LayerNormalization(KFloat32[0.856396, 0.805148, 0.852187, 0.821726, 0.855675, 0.826754, 0.862809, 0.849582, 0.84667, 0.868172  …  0.86737, 0.866919, 0.796145, 0.782494, 0.831994, 0.843429, 0.855304, 0.840911, 0.839397, 0.835407], KFloat32[-0.0235748, 0.0210148, -0.0239803, -0.0273365, 0.103877, 0.0460757, 0.0272399, -0.0187669, -0.110665, -0.122998  …  -0.057848, 0.0302805, 0.101279, -0.122537, -0.00456612, -0.14115, -0.0452224, -0.0381125, 0.0463717, 0.0103002], 1.0e-12), FeedForward(Dense(Linear(KFloat32[0.0565045 0.0685513 … 0.0343543 -0.0173157; -0.00684705 -0.014927 … 0.00669027 0.00147132; … ; -0.00764741 0.0488817 … 0.066738 0.0545332; -0.0201364 -0.0664263 … 0.0633109 -0.00316789], KFloat32[-0.104775, -0.0592018, -0.0553662, -0.0901755, -0.0934389, -0.0730384, -0.0782455, -0.0777856, -0.0677402, -0.058786  …  -0.0829975, -0.0547986, -0.0440764, -0.0652548, -0.0593083, -0.0217005, -0.215905, -0.110135, -0.049059, -0.124741]), 0.0, gelu), Linear(KFloat32[-0.0112698 0.0579318 … -0.0234224 0.0264506; 0.00958657 -0.0164245 … -0.0243531 -0.00394748; … ; -0.00766256 0.0475985 … -0.0279663 0.0825156; -0.0333418 -0.0144371 … -0.0194319 0.00789958], KFloat32[-0.0659266, 0.0426318, 0.0124363, 0.00275178, 0.0541394, 0.0475896, 0.0217408, -0.0549929, -0.0204092, -0.0990393  …  0.0210347, -0.047856, -0.0472294, 0.0161939, 0.038242, -0.00222726, -0.0653064, 0.0515407, 0.0283886, 0.0443353]), 0.1), LayerNormalization(KFloat32[0.639673, 0.641097, 0.664543, 0.613195, 0.636797, 0.630183, 0.660904, 0.634321, 0.630064, 0.617583  …  0.643693, 0.643947, 0.615546, 0.602717, 0.633976, 0.63567, 0.632704, 0.614622, 0.616857, 0.628513], KFloat32[0.0234814, -0.0171893, 0.0682789, 0.0113935, -0.0423639, -0.00102498, 0.00307995, -0.0218328, 0.0304409, -0.0165133  …  0.0726081, -0.0240185, -0.0640335, -0.0142857, 0.0079084, -0.0481675, 0.00325446, 0.00707768, 0.0273389, -0.0319619], 1.0e-12))], KnetArray{Float32,N} where N), Pooler(Linear(KFloat32[0.00756929 0.0120643 … 0.00878611 0.0312671; -0.0378011 0.00841361 … -0.00200486 0.0705206; … ; -0.00601825 -0.00788617 … -0.00652385 0.0485129; 0.0181501 0.0163892 … -0.0116807 0.0105209], KFloat32[-0.0341992, -0.00248577, 0.0567474, 0.0191413, -0.00750162, -2.86559e-5, 0.0219396, 0.00680262, 0.0375916, -0.0971814  …  -0.000831233, 0.0169847, -0.0336673, 0.0465352, -0.0112774, 0.0522394, 0.010307, 0.016399, -0.0166942, 0.0473651])), NSPHead(Linear(KFloat32[-0.0210782 -0.0298697 … -0.0291932 0.00926572; 0.0132354 0.0372161 … 0.035094 -0.0266885], KFloat32[0.0243201, -0.00920289])), MLMHead(Dense(Linear(KFloat32[0.351745 0.00516173 … -0.0392233 0.0286469; 0.0128208 0.275913 … -0.0175868 0.00771347; … ; 0.00793999 -0.0442648 … 0.193474 -0.038447; -0.0716141 0.0548792 … -0.0733149 0.366621], KFloat32[0.0701037, 0.0920184, 0.0455005, 0.0297336, 0.0553089, 0.0397923, 0.0403409, 0.0252468, 0.0331813, 0.125963  …  0.0926675, 0.0590998, 0.0571389, 0.0316408, 0.0347013, 0.0191983, 0.04481, 0.0468275, 0.0579494, 0.0444784]), 0.0, gelu), LayerNormalization(KFloat32[2.51703, 2.70333, 2.65458, 2.77146, 2.49534, 2.73382, 2.61742, 2.76009, 2.73197, 2.63018  …  2.61433, 2.37725, 2.56413, 2.76293, 2.54514, 2.72719, 2.37566, 2.58617, 2.73862, 2.98347], KFloat32[-0.50624, 0.0924518, 0.0338049, 0.117695, -0.499471, 0.0730249, 0.149177, 0.0629309, -0.128307, 0.129261  …  0.138374, -0.153489, -0.252505, 0.11565, -0.203978, -0.183053, -0.226679, -0.210253, 0.0107535, 0.190375], 1.0e-12), Linear(KFloat32[0.00618323 -0.0568268 … -0.0306487 -0.0130648; -0.0169476 -0.0541772 … -0.0289911 -0.0109822; … ; -0.0499978 -0.0468287 … -0.0284732 -0.0201913; -0.0177459 -0.0793887 … -0.0283612 0.0571289], KFloat32[-0.90455, -0.914618, -0.930487, -0.959663, -0.924124, -0.870831, -0.91987, -0.883486, -0.904187, -0.976599  …  -1.31019, -1.28476, -1.38072, -1.38533, -1.2995, -1.31533, -1.40002, -1.28598, -1.31441, -1.12316])))"
      ]
     },
     "execution_count": 207,
     "metadata": {},
     "output_type": "execute_result"
    }
   ],
   "source": [
    "model = load_from_torch(model, config.num_encoder, config.atype, torch_model)"
   ]
  },
  {
   "cell_type": "code",
   "execution_count": 208,
   "metadata": {
    "scrolled": true
   },
   "outputs": [
    {
     "name": "stdout",
     "output_type": "stream",
     "text": [
      "Any[11.037]\n",
      "Any[11.037, 11.3105]\n",
      "Any[11.037, 11.3105, 11.9327]\n",
      "Any[11.037, 11.3105, 11.9327, 11.2431]\n",
      "Any[11.037, 11.3105, 11.9327, 11.2431, 11.2654]\n"
     ]
    },
    {
     "ename": "InterruptException",
     "evalue": "InterruptException:",
     "output_type": "error",
     "traceback": [
      "InterruptException:",
      "",
      "Stacktrace:",
      " [1] eval at ./boot.jl:319 [inlined]",
      " [2] permutedims(::KnetArray{Float32,3}, ::Tuple{Int64,Int64,Int64}) at /kuacc/users/omutlu/.julia/packages/Knet/05UDD/src/linalg.jl:205",
      " [3] (::SelfAttention)(::KnetArray{Float32,3}, ::KnetArray{Float32,4}) at /scratch/users/omutlu/dl_course/BERT-in-Knet/model.jl:167",
      " [4] (::Encoder)(::KnetArray{Float32,3}, ::KnetArray{Float32,4}) at /scratch/users/omutlu/dl_course/BERT-in-Knet/model.jl:212",
      " [5] #call#253(::Array{Int64,2}, ::Bert, ::Array{Int64,2}, ::Array{Int64,2}) at /scratch/users/omutlu/dl_course/BERT-in-Knet/model.jl:244",
      " [6] Bert at ./none:0 [inlined]",
      " [7] #call#256(::Array{Int64,2}, ::BertPreTraining, ::Array{Int64,2}, ::Array{Int64,2}, ::Array{Int64,2}, ::Array{Int64,2}) at /scratch/users/omutlu/dl_course/BERT-in-Knet/model.jl:305",
      " [8] (::getfield(Main, Symbol(\"#kw#BertPreTraining\")))(::NamedTuple{(:attention_mask,),Tuple{Array{Int64,2}}}, ::BertPreTraining, ::Array{Int64,2}, ::Array{Int64,2}, ::Array{Int64,2}, ::Array{Int64,2}) at ./none:0",
      " [9] (::BertPreTraining)(::PreTrainingData) at /scratch/users/omutlu/dl_course/BERT-in-Knet/model.jl:318",
      " [10] top-level scope at In[208]:1"
     ]
    }
   ],
   "source": [
    "model(dtrn)"
   ]
  },
  {
   "cell_type": "code",
   "execution_count": 224,
   "metadata": {
    "scrolled": false
   },
   "outputs": [
    {
     "data": {
      "text/plain": [
       "11.019350194610766"
      ]
     },
     "execution_count": 224,
     "metadata": {},
     "output_type": "execute_result"
    }
   ],
   "source": [
    "Knet.log(30522) + Knet.log(2)"
   ]
  },
  {
   "cell_type": "code",
   "execution_count": 229,
   "metadata": {},
   "outputs": [
    {
     "data": {
      "text/plain": [
       "true"
      ]
     },
     "execution_count": 229,
     "metadata": {},
     "output_type": "execute_result"
    }
   ],
   "source": [
    "# Check if there is weight sharing\n",
    "torch_model[\"cls.predictions.decoder.weight\"][:cpu]()[:numpy]() == torch_model[\"bert.embeddings.word_embeddings.weight\"][:cpu]()[:numpy]()"
   ]
  },
  {
   "cell_type": "code",
   "execution_count": null,
   "metadata": {},
   "outputs": [],
   "source": [
    "# Unimportant stuff after this part"
   ]
  },
  {
   "cell_type": "code",
   "execution_count": 3,
   "metadata": {
    "scrolled": true
   },
   "outputs": [
    {
     "name": "stdout",
     "output_type": "stream",
     "text": [
      "  1.480823 seconds (3.64 M allocations: 163.294 MiB, 4.27% gc time)\n"
     ]
    }
   ],
   "source": [
    "#=\n",
    "asd = randn(2,3,4,5)\n",
    "dsa = randn(3,2,4,5)\n",
    "@time begin\n",
    "    qwe = zeros(2,2,4,5)\n",
    "    for i in 1:5\n",
    "        qwe[:, :, :, i] = bmm(asd[:, :, :, i], dsa[:, :, :, i])\n",
    "    end\n",
    "end\n",
    "=#"
   ]
  },
  {
   "cell_type": "code",
   "execution_count": 4,
   "metadata": {
    "scrolled": true
   },
   "outputs": [
    {
     "name": "stdout",
     "output_type": "stream",
     "text": [
      "  0.064232 seconds (184.66 k allocations: 9.384 MiB)\n"
     ]
    },
    {
     "data": {
      "text/plain": [
       "2×2×4×5 Array{Float64,4}:\n",
       "[:, :, 1, 1] =\n",
       "  0.115702   0.84845\n",
       " -1.28604   -1.00778\n",
       "\n",
       "[:, :, 2, 1] =\n",
       " -0.117182   0.363062\n",
       "  4.44089   -0.717041\n",
       "\n",
       "[:, :, 3, 1] =\n",
       " -0.733266  -1.53797\n",
       " -1.17601   -1.41673\n",
       "\n",
       "[:, :, 4, 1] =\n",
       " 0.791245   -0.0872022\n",
       " 0.0146814   0.0400762\n",
       "\n",
       "[:, :, 1, 2] =\n",
       " -1.13423  0.766976\n",
       "  2.13047  0.910996\n",
       "\n",
       "[:, :, 2, 2] =\n",
       " 1.41911    2.82969 \n",
       " 0.716323  -0.676642\n",
       "\n",
       "[:, :, 3, 2] =\n",
       "  1.1102      -1.53823\n",
       " -0.00522836   1.55034\n",
       "\n",
       "[:, :, 4, 2] =\n",
       " -3.75843   0.621332\n",
       "  1.44112  -1.03046 \n",
       "\n",
       "[:, :, 1, 3] =\n",
       " -0.760699  1.55247\n",
       "  0.272704  3.22196\n",
       "\n",
       "[:, :, 2, 3] =\n",
       " 0.12309  2.14021\n",
       " 1.64758  2.65152\n",
       "\n",
       "[:, :, 3, 3] =\n",
       " -0.815294   1.14375 \n",
       " -0.615639  -0.989944\n",
       "\n",
       "[:, :, 4, 3] =\n",
       " -1.07816     -1.03071 \n",
       " -0.00645643   0.314534\n",
       "\n",
       "[:, :, 1, 4] =\n",
       " -0.366951  -0.496234\n",
       "  2.55274    0.690053\n",
       "\n",
       "[:, :, 2, 4] =\n",
       " -0.176301  -0.385411\n",
       " -0.480657   1.25897 \n",
       "\n",
       "[:, :, 3, 4] =\n",
       "  2.53924   2.71935\n",
       " -2.18906  -1.85169\n",
       "\n",
       "[:, :, 4, 4] =\n",
       " -0.585549  -0.480815\n",
       "  1.91477   -0.159747\n",
       "\n",
       "[:, :, 1, 5] =\n",
       "  0.554726  -0.869307\n",
       " -1.44895    1.90506 \n",
       "\n",
       "[:, :, 2, 5] =\n",
       " -0.20791   0.686798\n",
       " -0.630707  2.3288  \n",
       "\n",
       "[:, :, 3, 5] =\n",
       " 0.596997  -0.0937985\n",
       " 0.700099  -0.213198 \n",
       "\n",
       "[:, :, 4, 5] =\n",
       " 0.216494  0.526591\n",
       " 5.54772   2.13989 "
      ]
     },
     "execution_count": 4,
     "metadata": {},
     "output_type": "execute_result"
    }
   ],
   "source": [
    "# @time qwe2 = reshape(bmm(reshape(asd, (2,3,20)), reshape(dsa, (3,2,20))), (2,2,4,5))"
   ]
  },
  {
   "cell_type": "code",
   "execution_count": 5,
   "metadata": {
    "scrolled": false
   },
   "outputs": [
    {
     "data": {
      "text/plain": [
       "true"
      ]
     },
     "execution_count": 5,
     "metadata": {},
     "output_type": "execute_result"
    }
   ],
   "source": [
    "# qwe == qwe2"
   ]
  },
  {
   "cell_type": "code",
   "execution_count": 6,
   "metadata": {},
   "outputs": [],
   "source": [
    "# I change this function in order to ignore the indexes with labels -1 in nll function. We don't need this part anymore.\n",
    "#=\n",
    "function findindices(y,a::AbstractArray{<:Integer}; dims=1)\n",
    "    n = length(a[a.!=-1]) # ignore indexes with -1\n",
    "    indices = Vector{Int}(undef,n)\n",
    "    if dims == 1                   # instances in first dimension\n",
    "        y1 = size(y,1)\n",
    "        y2 = div(length(y),y1)\n",
    "        #if n != y2; throw(DimensionMismatch()); end\n",
    "        @inbounds for j=1:n\n",
    "            if a[j] != -1\n",
    "                indices[j] = (j-1)*y1 + a[j]\n",
    "            end\n",
    "        end\n",
    "    elseif dims == 2               # instances in last dimension\n",
    "        y2 = size(y,ndims(y))\n",
    "        y1 = div(length(y),y2)\n",
    "        #if n != y1; throw(DimensionMismatch()); end\n",
    "        @inbounds for j=1:n\n",
    "            if a[j] != -1\n",
    "                indices[j] = (a[j]-1)*y1 + j\n",
    "            end\n",
    "        end\n",
    "    else\n",
    "        error(\"findindices only supports dims = 1 or 2\")\n",
    "    end\n",
    "    return indices\n",
    "end\n",
    "=#"
   ]
  }
 ],
 "metadata": {
  "kernelspec": {
   "display_name": "Julia 1.0.3",
   "language": "julia",
   "name": "julia-1.0"
  },
  "language_info": {
   "file_extension": ".jl",
   "mimetype": "application/julia",
   "name": "julia",
   "version": "1.0.3"
  }
 },
 "nbformat": 4,
 "nbformat_minor": 2
}
